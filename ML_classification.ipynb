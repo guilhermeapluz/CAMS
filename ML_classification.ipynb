{
 "cells": [
  {
   "cell_type": "code",
   "execution_count": 16,
   "id": "d134c4a9",
   "metadata": {
    "notebookRunGroups": {
     "groupValue": ""
    }
   },
   "outputs": [],
   "source": [
    "# import requests\n",
    "# from datetime import datetime, date\n",
    "# from classtoimport.Settings import Settings\n",
    "# from classtoimport.RapidApi import RapidApi\n",
    "\n",
    "# BOT_TOKEN = Settings().get({\"section\":\"telegram\",\"parameter\":\"bot_token\"})\n",
    "# CHAT_ID = Settings().get({\"section\":\"telegram\",\"parameter\":\"chat_id\"})\n",
    "\n",
    "\n",
    "# def telegramAlert():\n",
    "\n",
    "#     sendMessage(\"🟡 Sem jogos pra hoje!\")\n",
    "\n",
    "# telegramAlert()"
   ]
  },
  {
   "cell_type": "code",
   "execution_count": 17,
   "id": "d79da252",
   "metadata": {
    "notebookRunGroups": {
     "groupValue": ""
    }
   },
   "outputs": [],
   "source": [
    "# If you have a GPU it can be used to improve performance.\n",
    "\n",
    "# import tensorflow as tf\n",
    "# tf.debugging.set_log_device_placement(True)\n",
    "# print(\"Num GPUs Available: \", len(tf.config.list_physical_devices('GPU')))"
   ]
  },
  {
   "cell_type": "code",
   "execution_count": 18,
   "id": "84939d82",
   "metadata": {
    "notebookRunGroups": {
     "groupValue": ""
    }
   },
   "outputs": [],
   "source": [
    "\n",
    "# lstm_model = LSTM_model(embedding_matrix,vocab_len,emb_dim)\n",
    "# history = lstm_model.fit(X_train, np.asarray(Y_train), validation_data=(X_val, np.asarray(Y_val)), batch_size = batch_size, epochs = epochs)\n",
    "\n",
    "# cnn_model= CNN_model(embedding_matrix,vocab_len)\n",
    "# history = cnn_model.fit(X_train, np.asarray(Y_train), validation_data=(X_val, np.asarray(Y_val)),batch_size = batch_size, epochs = epochs)\n",
    "\n",
    "# gru_model = GRU_model(embedding_matrix,vocab_len)\n",
    "# history = gru_model.fit(X_train, np.asarray(Y_train), validation_data=(X_val, np.asarray(Y_val)), batch_size = batch_size, epochs = epochs)\n",
    "                        \n",
    "# cnn_gru_model = CNN_GRU_model(embedding_matrix,vocab_len)\n",
    "# history = cnn_gru_model.fit(X_train, np.asarray(Y_train), validation_data=(X_val, np.asarray(Y_val)),epochs=epochs, batch_size=batch_size)\n",
    "\n",
    "# cnn_lstm_model = CNN_LSTM_model(embedding_matrix,vocab_len)\n",
    "# history = cnn_lstm_model.fit(X_train, np.asarray(Y_train), validation_data=(X_val, np.asarray(Y_val)),epochs=epochs, batch_size=batch_size)\n",
    "\n",
    "# lstmbd_model = BID_LSTM_model(embedding_matrix,vocab_len,emb_dim)\n",
    "# history = lstmbd_model.fit(X_train, np.asarray(Y_train), validation_data=(X_val, np.asarray(Y_val)),epochs=epochs, batch_size=batch_size)\n",
    "\n",
    "# grubd_model = BID_GRU_model(embedding_matrix,vocab_len,emb_dim)\n",
    "# history = grubd_model.fit(X_train, np.asarray(Y_train), validation_data=(X_val, np.asarray(Y_val)),epochs=epochs, batch_size=batch_size)"
   ]
  },
  {
   "cell_type": "code",
   "execution_count": 19,
   "id": "76b9fd56",
   "metadata": {
    "notebookRunGroups": {
     "groupValue": ""
    }
   },
   "outputs": [
    {
     "name": "stderr",
     "output_type": "stream",
     "text": [
      "[nltk_data] Downloading package stopwords to\n",
      "[nltk_data]     /home/guilherme/nltk_data...\n",
      "[nltk_data]   Package stopwords is already up-to-date!\n"
     ]
    }
   ],
   "source": [
    "import pandas as pd\n",
    "import pickle\n",
    "\n",
    "# REMOVED\n",
    "#import torch\n",
    "#import transformers\n",
    "#from torch.utils.data import Dataset, DataLoader\n",
    "\n",
    "from sklearn.model_selection import train_test_split\n",
    "import sys\n",
    "import csv\n",
    "import re\n",
    "from tqdm.notebook import tqdm\n",
    "import sys\n",
    "import csv\n",
    "from tensorflow.keras.preprocessing.sequence import pad_sequences\n",
    "from keras.preprocessing.text import Tokenizer\n",
    "import nltk\n",
    "nltk.download('stopwords')\n",
    "from nltk.corpus import stopwords\n",
    "from nltk import word_tokenize\n",
    "STOPWORDS = set(stopwords.words('english'))\n",
    "from bs4 import BeautifulSoup\n",
    "from src.preprocess import *\n",
    "from src.models import *\n",
    "from src.lib import *\n",
    "import matplotlib.pyplot as plt"
   ]
  },
  {
   "cell_type": "markdown",
   "id": "d0e79b42",
   "metadata": {},
   "source": [
    "## Explore data\n",
    "\n",
    "### kinds of cause:\n",
    "- 1 = No reason\n",
    "- 2 = Bias or abuse\n",
    "- 3 = Jobs and careers\n",
    "- 4 = Medication\n",
    "- 5 = Relationships\n",
    "- 6 = Alienation"
   ]
  },
  {
   "cell_type": "code",
   "execution_count": 20,
   "id": "1781aeb4",
   "metadata": {},
   "outputs": [],
   "source": [
    "import numpy as np\n",
    "import pandas as pd\n",
    "\n",
    "## Import training and Testing files\n",
    "read_file_training = pd.read_csv('./data/added_CAMS_data.csv', encoding=\"ISO-8859-1\")\n",
    "read_file_testing = pd.read_csv('./data/IntentSDCNL_Testing.csv', encoding = \"ISO-8859-1\")\n",
    "\n",
    "\n",
    "#training data\n",
    "df_train = pd.DataFrame(read_file_training,columns= ['selftext','cause', 'inference']) # load data df_train\n",
    "df_train = df_train.rename(columns={'selftext': 'text'}) # Rename columns:\n",
    "df_train = df_train.convert_dtypes() # Convert columns to the best possible\n",
    "\n",
    "\n",
    "#testing data\n",
    "df_test = pd.DataFrame(read_file_testing,columns= ['selftext','ANNOTATIONS', 'Interpretations']) # load data df_test\n",
    "df_test = df_test.rename(columns={'selftext': 'text', 'ANNOTATIONS': 'cause', 'Interpretations': 'inference'}) # Rename columns\n",
    "df_test = df_test.convert_dtypes() # Convert columns to the best possible\n",
    "\n",
    "# frame = [df_train]\n",
    "# df_train =  pd.concat(frame)\n"
   ]
  },
  {
   "cell_type": "code",
   "execution_count": 21,
   "id": "a81b1b81",
   "metadata": {},
   "outputs": [],
   "source": [
    "# Removing some rows acoording rules below:\n",
    "df_test.drop(df_test[df_test.text==\"emptypost\"].index, inplace=True)\n",
    "df_test.drop(df_test[df_test.cause==\" \"].index, inplace=True)\n",
    "df_test.drop(df_test[df_test.inference==\" \"].index, inplace=True)\n",
    "\n",
    "\n",
    "# Removing some rows acoording rules below:\n",
    "df_train.drop(df_train[df_train.text==\"emptypost\"].index, inplace=True)\n",
    "df_train.drop(df_train[df_train.cause==\" \"].index, inplace=True)\n",
    "df_train.drop(df_train[df_train.inference==\" \"].index, inplace=True)\n",
    "\n",
    "# Removing all nulls from both datasets.\n",
    "df_test.dropna(inplace=True)\n",
    "df_train.dropna(inplace=True)\n",
    "\n",
    "\n"
   ]
  },
  {
   "cell_type": "code",
   "execution_count": 22,
   "id": "ce4c734c",
   "metadata": {},
   "outputs": [
    {
     "name": "stdout",
     "output_type": "stream",
     "text": [
      "###### Class distribution of training data #####\n"
     ]
    },
    {
     "data": {
      "text/plain": [
       "<Axes: ylabel='count'>"
      ]
     },
     "execution_count": 22,
     "metadata": {},
     "output_type": "execute_result"
    },
    {
     "data": {
      "image/png": "[encoded data removed]",
      "text/plain": [
       "<Figure size 500x500 with 1 Axes>"
      ]
     },
     "metadata": {},
     "output_type": "display_data"
    }
   ],
   "source": [
    "\n",
    "print(\"###### Class distribution of training data #####\")\n",
    "labels = [\"0\", \"1\", \"2\", \"3\", \"4\", \"5\"]\n",
    "fig, ax = plt.subplots(1, 1, figsize=(5,5))\n",
    "df_train['cause'].value_counts().plot.pie(autopct = '%1.1f%%', labels=labels)"
   ]
  },
  {
   "cell_type": "code",
   "execution_count": 23,
   "id": "731db500",
   "metadata": {},
   "outputs": [
    {
     "name": "stdout",
     "output_type": "stream",
     "text": [
      "###### Class distribution of testing data #####\n"
     ]
    },
    {
     "data": {
      "text/plain": [
       "<Axes: ylabel='count'>"
      ]
     },
     "execution_count": 23,
     "metadata": {},
     "output_type": "execute_result"
    },
    {
     "data": {
      "image/png": "[encoded data removed]",
      "text/plain": [
       "<Figure size 500x500 with 1 Axes>"
      ]
     },
     "metadata": {},
     "output_type": "display_data"
    }
   ],
   "source": [
    "\n",
    "print(\"###### Class distribution of testing data #####\")\n",
    "labels = [\"0\", \"1\", \"2\", \"3\", \"4\", \"5\"]\n",
    "fig, ax = plt.subplots(1, 1, figsize=(5,5))\n",
    "df_test['cause'].value_counts().plot.pie(autopct = '%1.1f%%', labels=labels)"
   ]
  },
  {
   "cell_type": "code",
   "execution_count": 24,
   "id": "6fd664e7",
   "metadata": {},
   "outputs": [
    {
     "data": {
      "text/html": [
       "<div>\n",
       "<style scoped>\n",
       "    .dataframe tbody tr th:only-of-type {\n",
       "        vertical-align: middle;\n",
       "    }\n",
       "\n",
       "    .dataframe tbody tr th {\n",
       "        vertical-align: top;\n",
       "    }\n",
       "\n",
       "    .dataframe thead th {\n",
       "        text-align: right;\n",
       "    }\n",
       "</style>\n",
       "<table border=\"1\" class=\"dataframe\">\n",
       "  <thead>\n",
       "    <tr style=\"text-align: right;\">\n",
       "      <th></th>\n",
       "      <th>text</th>\n",
       "      <th>cause</th>\n",
       "      <th>inference</th>\n",
       "    </tr>\n",
       "  </thead>\n",
       "  <tbody>\n",
       "    <tr>\n",
       "      <th>0</th>\n",
       "      <td>Indubitably, I am not worth anything as a bein...</td>\n",
       "      <td>1</td>\n",
       "      <td>not productive, worthless, hate, bored , issue...</td>\n",
       "    </tr>\n",
       "    <tr>\n",
       "      <th>1</th>\n",
       "      <td>Almost everyday I wake up hating myself, why w...</td>\n",
       "      <td>5</td>\n",
       "      <td>feeling trapped, paranoid, barely talks to me,...</td>\n",
       "    </tr>\n",
       "    <tr>\n",
       "      <th>2</th>\n",
       "      <td>To kill myself if im ugly?</td>\n",
       "      <td>1</td>\n",
       "      <td>ugly</td>\n",
       "    </tr>\n",
       "    <tr>\n",
       "      <th>3</th>\n",
       "      <td>God help me.... I know I should go to the hosp...</td>\n",
       "      <td>1</td>\n",
       "      <td>abuse suffered, hard person to love, scars, cy...</td>\n",
       "    </tr>\n",
       "    <tr>\n",
       "      <th>4</th>\n",
       "      <td>I really don't want to do anything anymore. Wh...</td>\n",
       "      <td>2</td>\n",
       "      <td>wasting money, sulking, failure, disappointmen...</td>\n",
       "    </tr>\n",
       "    <tr>\n",
       "      <th>...</th>\n",
       "      <td>...</td>\n",
       "      <td>...</td>\n",
       "      <td>...</td>\n",
       "    </tr>\n",
       "    <tr>\n",
       "      <th>3148</th>\n",
       "      <td>I'm sitting here just reading all your guy's a...</td>\n",
       "      <td>4</td>\n",
       "      <td>living with grandmother to care, lost two aunt...</td>\n",
       "    </tr>\n",
       "    <tr>\n",
       "      <th>3149</th>\n",
       "      <td>Recently,I have developed a extremely annoying...</td>\n",
       "      <td>3</td>\n",
       "      <td>cant get words out of mouth, social anxiety, m...</td>\n",
       "    </tr>\n",
       "    <tr>\n",
       "      <th>3150</th>\n",
       "      <td>My depression has taken everything. I'm nearly...</td>\n",
       "      <td>5</td>\n",
       "      <td>suffering from depression for 10 years, lost g...</td>\n",
       "    </tr>\n",
       "    <tr>\n",
       "      <th>3151</th>\n",
       "      <td>Hey guys, I'm a 22 year old male from Australi...</td>\n",
       "      <td>3</td>\n",
       "      <td>borderline personality disorder</td>\n",
       "    </tr>\n",
       "    <tr>\n",
       "      <th>3152</th>\n",
       "      <td>Not sure how to start this. So ill start by te...</td>\n",
       "      <td>5</td>\n",
       "      <td>parents and girlfriend really supportive,, don...</td>\n",
       "    </tr>\n",
       "  </tbody>\n",
       "</table>\n",
       "<p>3218 rows × 3 columns</p>\n",
       "</div>"
      ],
      "text/plain": [
       "                                                   text  cause   \n",
       "0     Indubitably, I am not worth anything as a bein...      1  \\\n",
       "1     Almost everyday I wake up hating myself, why w...      5   \n",
       "2                            To kill myself if im ugly?      1   \n",
       "3     God help me.... I know I should go to the hosp...      1   \n",
       "4     I really don't want to do anything anymore. Wh...      2   \n",
       "...                                                 ...    ...   \n",
       "3148  I'm sitting here just reading all your guy's a...      4   \n",
       "3149  Recently,I have developed a extremely annoying...      3   \n",
       "3150  My depression has taken everything. I'm nearly...      5   \n",
       "3151  Hey guys, I'm a 22 year old male from Australi...      3   \n",
       "3152  Not sure how to start this. So ill start by te...      5   \n",
       "\n",
       "                                              inference  \n",
       "0     not productive, worthless, hate, bored , issue...  \n",
       "1     feeling trapped, paranoid, barely talks to me,...  \n",
       "2                                                  ugly  \n",
       "3     abuse suffered, hard person to love, scars, cy...  \n",
       "4     wasting money, sulking, failure, disappointmen...  \n",
       "...                                                 ...  \n",
       "3148  living with grandmother to care, lost two aunt...  \n",
       "3149  cant get words out of mouth, social anxiety, m...  \n",
       "3150  suffering from depression for 10 years, lost g...  \n",
       "3151                    borderline personality disorder  \n",
       "3152  parents and girlfriend really supportive,, don...  \n",
       "\n",
       "[3218 rows x 3 columns]"
      ]
     },
     "execution_count": 24,
     "metadata": {},
     "output_type": "execute_result"
    }
   ],
   "source": [
    "frame = [df_test, df_train]\n",
    "data =  pd.concat(frame)\n",
    "data"
   ]
  },
  {
   "cell_type": "markdown",
   "id": "44b85644",
   "metadata": {},
   "source": [
    "#### A Sample"
   ]
  },
  {
   "cell_type": "code",
   "execution_count": 25,
   "id": "be17c2c9",
   "metadata": {},
   "outputs": [],
   "source": [
    "# print_plot(df_train,0)"
   ]
  },
  {
   "cell_type": "markdown",
   "id": "72b8bf9b",
   "metadata": {},
   "source": [
    "## Clean and preprocess the text"
   ]
  },
  {
   "cell_type": "markdown",
   "id": "440f4d70",
   "metadata": {},
   "source": [
    "####  Clean Training and Testing data"
   ]
  },
  {
   "cell_type": "code",
   "execution_count": 26,
   "id": "6e2af759",
   "metadata": {
    "notebookRunGroups": {
     "groupValue": ""
    }
   },
   "outputs": [],
   "source": [
    "REPLACE_BY_SPACE_RE = re.compile('[/(){}\\[\\]\\|@,;]')\n",
    "BAD_SYMBOLS_RE = re.compile('[^0-9a-z #+_]')\n",
    "STOPWORDS = set(stopwords.words('english'))\n",
    "\n",
    "def clean_text(text):\n",
    "    text = text.lower() \n",
    "    text = REPLACE_BY_SPACE_RE.sub(' ', text) \n",
    "    text = BAD_SYMBOLS_RE.sub('', text)     \n",
    "    text = text.replace('x', '')\n",
    "    text = ' '.join(word for word in text.split() if word not in STOPWORDS) # remove stopwors from text\n",
    "    return text\n",
    "\n",
    "\n",
    "#training data\n",
    "df_train = df_train.reset_index(drop=True)\n",
    "df_train['text'] = df_train['text'].apply(clean_text)\n",
    "df_train['text'] = df_train['text'].str.replace('\\d+', '')\n",
    "\n",
    "##testing data\n",
    "df_train = df_train.reset_index(drop=True)\n",
    "df_test['text'] = df_test['text'].apply(clean_text)\n",
    "df_test['text'] = df_test['text'].str.replace('\\d+', '')"
   ]
  },
  {
   "cell_type": "markdown",
   "id": "4b991f54",
   "metadata": {},
   "source": [
    "#### A sample after cleanup"
   ]
  },
  {
   "cell_type": "code",
   "execution_count": 27,
   "id": "46136ca9",
   "metadata": {
    "notebookRunGroups": {
     "groupValue": ""
    }
   },
   "outputs": [
    {
     "name": "stdout",
     "output_type": "stream",
     "text": [
      "look like drug addict lost much weight cant hold much food without throwing literally look anoreic eye bags bad theyre dark deep stop effects mom sees dont want know im depressed told look horrible dont like tell people depression either knowing people theyll make feel like depression isnt bad look like drug addict everyone need stop\n",
      "text: 3\n"
     ]
    },
    {
     "data": {
      "text/plain": [
       "2877"
      ]
     },
     "execution_count": 27,
     "metadata": {},
     "output_type": "execute_result"
    }
   ],
   "source": [
    "print_plot(df_train,0)\n",
    "len(df_train)"
   ]
  },
  {
   "cell_type": "markdown",
   "id": "e1a980db",
   "metadata": {},
   "source": [
    "#### Intialize parameters"
   ]
  },
  {
   "cell_type": "code",
   "execution_count": 28,
   "id": "9e5dd333",
   "metadata": {
    "notebookRunGroups": {
     "groupValue": ""
    }
   },
   "outputs": [],
   "source": [
    "# Define some Global Variables\n",
    "max_nb_words = 60000\n",
    "max_features = 10543 # Maximum Number of words we want to include in our dictionary\n",
    "maxlen = 500 # No of words in question we want to create a sequence with\n",
    "emb_dim = 100 # Size of word to vec embedding we are usingtokenizer = Tokenizer(num_words=max_nb_words, filters='!\"#$%&()*+,-./:;<=>?@[\\]^_`{|}~', lower=True)"
   ]
  },
  {
   "cell_type": "markdown",
   "id": "d50a645a",
   "metadata": {},
   "source": [
    "#### Initial Tokenizer"
   ]
  },
  {
   "cell_type": "code",
   "execution_count": 29,
   "id": "354197dc",
   "metadata": {
    "notebookRunGroups": {
     "groupValue": ""
    }
   },
   "outputs": [
    {
     "name": "stdout",
     "output_type": "stream",
     "text": [
      "Found 18102 unique tokens.\n"
     ]
    }
   ],
   "source": [
    "# tokenizer = Tokenizer(num_words=max_nb_words, filters='!\"#$%&()*+,-./:;<=>?@[\\]^_`{|}~', lower=True)\n",
    "\n",
    "tokenizer = Tokenizer(num_words=max_nb_words, filters='!\"#$%&()*+,-./:;<=>?@[\\]^_`{|}~', lower=True)\n",
    "tokenizer.fit_on_texts(data['text'].values)# tokenizer on whole training and testing data\n",
    "word_index = tokenizer.word_index\n",
    "print('Found %s unique tokens.' % len(word_index))"
   ]
  },
  {
   "cell_type": "code",
   "execution_count": 30,
   "id": "4a4e6cf3",
   "metadata": {
    "notebookRunGroups": {
     "groupValue": ""
    }
   },
   "outputs": [
    {
     "name": "stdout",
     "output_type": "stream",
     "text": [
      "Shape of data tensor: (2877, 500)\n"
     ]
    }
   ],
   "source": [
    "X_train = tokenizer.texts_to_sequences(df_train['text'].values)\n",
    "X_train = pad_sequences(X_train, maxlen=maxlen)\n",
    "print('Shape of data tensor:', X_train.shape)"
   ]
  },
  {
   "cell_type": "code",
   "execution_count": 31,
   "id": "bdd114a1",
   "metadata": {
    "notebookRunGroups": {
     "groupValue": ""
    }
   },
   "outputs": [
    {
     "name": "stdout",
     "output_type": "stream",
     "text": [
      "Shape of label tensor: (2877, 6)\n"
     ]
    }
   ],
   "source": [
    "Y_train = pd.get_dummies(df_train['cause']).values\n",
    "print('Shape of label tensor:', Y_train.shape)"
   ]
  },
  {
   "cell_type": "code",
   "execution_count": 32,
   "id": "b2c6178b",
   "metadata": {
    "notebookRunGroups": {
     "groupValue": ""
    }
   },
   "outputs": [
    {
     "name": "stdout",
     "output_type": "stream",
     "text": [
      "Shape of data tensor: (341, 500)\n"
     ]
    }
   ],
   "source": [
    "X_test = tokenizer.texts_to_sequences(df_test['text'].values)\n",
    "X_test = pad_sequences(X_test, maxlen=maxlen)\n",
    "print('Shape of data tensor:', X_test.shape)"
   ]
  },
  {
   "cell_type": "code",
   "execution_count": 33,
   "id": "8fcc9864",
   "metadata": {
    "notebookRunGroups": {
     "groupValue": ""
    }
   },
   "outputs": [
    {
     "name": "stdout",
     "output_type": "stream",
     "text": [
      "Shape of label tensor: (341, 6)\n"
     ]
    }
   ],
   "source": [
    "Y_test = pd.get_dummies(df_test['cause']).values\n",
    "print('Shape of label tensor:', Y_test.shape)"
   ]
  },
  {
   "cell_type": "markdown",
   "id": "4daadd61",
   "metadata": {},
   "source": [
    "### Finally some validation data from Training Data"
   ]
  },
  {
   "cell_type": "code",
   "execution_count": 34,
   "id": "749fdee7",
   "metadata": {
    "notebookRunGroups": {
     "groupValue": ""
    }
   },
   "outputs": [],
   "source": [
    "# Split arrays or matrices into random train and test subsets.\n",
    "X_train, X_val, Y_train, Y_val = train_test_split(X_train,Y_train,random_state=0,test_size=0.1)"
   ]
  },
  {
   "cell_type": "code",
   "execution_count": 35,
   "id": "7170b77e",
   "metadata": {
    "notebookRunGroups": {
     "groupValue": ""
    }
   },
   "outputs": [
    {
     "name": "stdout",
     "output_type": "stream",
     "text": [
      "TrainingData (2589, 500) (2589, 6)\n",
      "TestingData (341, 500) (341, 6)\n",
      "ValidationData (288, 500) (288, 6)\n"
     ]
    }
   ],
   "source": [
    "print('TrainingData',X_train.shape,Y_train.shape)\n",
    "print('TestingData',X_test.shape,Y_test.shape)\n",
    "print('ValidationData',X_val.shape,Y_val.shape)\n"
   ]
  },
  {
   "cell_type": "code",
   "execution_count": 36,
   "id": "4464a0fd",
   "metadata": {},
   "outputs": [],
   "source": [
    "#print a test sample\n",
    "#print('test example:', X_test[100])\n",
    "#len(X_test[100])"
   ]
  },
  {
   "cell_type": "markdown",
   "id": "c3f8e9b0",
   "metadata": {},
   "source": [
    "#### Intialize Embedding"
   ]
  },
  {
   "cell_type": "code",
   "execution_count": 37,
   "id": "ce41274e",
   "metadata": {
    "notebookRunGroups": {
     "groupValue": ""
    }
   },
   "outputs": [
    {
     "name": "stdout",
     "output_type": "stream",
     "text": [
      "Size of vocabulary in GloVe: 400000\n"
     ]
    }
   ],
   "source": [
    "embedding_vectors = {}\n",
    "\n",
    "with open(f'./embeddings/glove.6B.{emb_dim}d.txt','r',encoding='utf-8') as file:\n",
    "    for row in file:\n",
    "        values = row.split(' ')\n",
    "        word = values[0]\n",
    "        weights = np.asarray([float(val) for val in values[1:]])\n",
    "        embedding_vectors[word] = weights\n",
    "        \n",
    "print(f\"Size of vocabulary in GloVe: {len(embedding_vectors)}\")\n"
   ]
  },
  {
   "cell_type": "code",
   "execution_count": 38,
   "id": "f1cc5f7f",
   "metadata": {
    "notebookRunGroups": {
     "groupValue": ""
    }
   },
   "outputs": [
    {
     "name": "stdout",
     "output_type": "stream",
     "text": [
      "A few out of valubulary words: 4066\n",
      "A few out of valubulary words: [\"i'm\", \"don't\", \"i've\", \"it's\", '\\n\\ni', \"can't\", 'iâ\\x80\\x99m', \"didn't\", 'donâ\\x80\\x99t', \"doesn't\"]\n"
     ]
    }
   ],
   "source": [
    "#initialize the embedding_matrix with zeros\n",
    "\n",
    "if max_nb_words is not None: \n",
    "    vocab_len = max_nb_words\n",
    "else:\n",
    "    vocab_len = len(word_index)+1\n",
    "    \n",
    "embedding_matrix = np.zeros((vocab_len, emb_dim))\n",
    "oov_count = 0\n",
    "oov_words = []\n",
    "\n",
    "for word, idx in word_index.items():\n",
    "    if idx < vocab_len:\n",
    "        embedding_vector = embedding_vectors.get(word)\n",
    "        if embedding_vector is not None:\n",
    "            embedding_matrix[idx] = embedding_vector\n",
    "        else:\n",
    "            oov_count += 1 \n",
    "            oov_words.append(word)\n",
    "            \n",
    "#Check some of the out of vocabulary words\n",
    "print(f'A few out of valubulary words: {len(oov_words)}')\n",
    "print(f'A few out of valubulary words: {oov_words[0:10]}')"
   ]
  },
  {
   "cell_type": "code",
   "execution_count": 39,
   "id": "9286940a",
   "metadata": {},
   "outputs": [
    {
     "name": "stdout",
     "output_type": "stream",
     "text": [
      "4066 out of 60000 words were OOV.\n"
     ]
    }
   ],
   "source": [
    "print(f'{oov_count} out of {vocab_len} words were OOV.')"
   ]
  },
  {
   "cell_type": "markdown",
   "id": "d0a6a8c1",
   "metadata": {},
   "source": [
    "## NN models"
   ]
  },
  {
   "cell_type": "code",
   "execution_count": 40,
   "id": "6ce9711f",
   "metadata": {},
   "outputs": [],
   "source": [
    "##Global variables\n",
    "batch_size = 256\n",
    "epochs  = 20"
   ]
  },
  {
   "cell_type": "markdown",
   "id": "9330e923",
   "metadata": {},
   "source": [
    "#### a) LSTM Model"
   ]
  },
  {
   "cell_type": "code",
   "execution_count": 41,
   "id": "c946bd87",
   "metadata": {},
   "outputs": [
    {
     "name": "stdout",
     "output_type": "stream",
     "text": [
      "Model: \"sequential\"\n",
      "_________________________________________________________________\n",
      " Layer (type)                Output Shape              Param #   \n",
      "=================================================================\n",
      " embedding (Embedding)       (None, None, 100)         6000000   \n",
      "                                                                 \n",
      " lstm (LSTM)                 (None, 128)               117248    \n",
      "                                                                 \n",
      " dropout (Dropout)           (None, 128)               0         \n",
      "                                                                 \n",
      " dense (Dense)               (None, 6)                 774       \n",
      "                                                                 \n",
      "=================================================================\n",
      "Total params: 6,118,022\n",
      "Trainable params: 118,022\n",
      "Non-trainable params: 6,000,000\n",
      "_________________________________________________________________\n",
      "None\n"
     ]
    },
    {
     "name": "stderr",
     "output_type": "stream",
     "text": [
      "2023-08-18 22:34:52.156553: I tensorflow/core/common_runtime/executor.cc:1197] [/device:CPU:0] (DEBUG INFO) Executor start aborting (this does not indicate an error and you can ignore this message): INVALID_ARGUMENT: You must feed a value for placeholder tensor 'gradients/split_2_grad/concat/split_2/split_dim' with dtype int32\n",
      "\t [[{{node gradients/split_2_grad/concat/split_2/split_dim}}]]\n",
      "2023-08-18 22:34:52.159288: I tensorflow/core/common_runtime/executor.cc:1197] [/device:CPU:0] (DEBUG INFO) Executor start aborting (this does not indicate an error and you can ignore this message): INVALID_ARGUMENT: You must feed a value for placeholder tensor 'gradients/split_grad/concat/split/split_dim' with dtype int32\n",
      "\t [[{{node gradients/split_grad/concat/split/split_dim}}]]\n",
      "2023-08-18 22:34:52.162203: I tensorflow/core/common_runtime/executor.cc:1197] [/device:CPU:0] (DEBUG INFO) Executor start aborting (this does not indicate an error and you can ignore this message): INVALID_ARGUMENT: You must feed a value for placeholder tensor 'gradients/split_1_grad/concat/split_1/split_dim' with dtype int32\n",
      "\t [[{{node gradients/split_1_grad/concat/split_1/split_dim}}]]\n"
     ]
    }
   ],
   "source": [
    "lstm_model = LSTM_model(embedding_matrix,vocab_len,emb_dim)"
   ]
  },
  {
   "cell_type": "markdown",
   "id": "30bbf47c",
   "metadata": {},
   "source": [
    "##### Train the model"
   ]
  },
  {
   "cell_type": "code",
   "execution_count": 42,
   "id": "4ce8e228",
   "metadata": {},
   "outputs": [
    {
     "name": "stdout",
     "output_type": "stream",
     "text": [
      "Epoch 1/20\n"
     ]
    },
    {
     "name": "stderr",
     "output_type": "stream",
     "text": [
      "2023-08-18 22:34:56.102787: I tensorflow/core/common_runtime/executor.cc:1197] [/device:CPU:0] (DEBUG INFO) Executor start aborting (this does not indicate an error and you can ignore this message): INVALID_ARGUMENT: You must feed a value for placeholder tensor 'gradients/split_2_grad/concat/split_2/split_dim' with dtype int32\n",
      "\t [[{{node gradients/split_2_grad/concat/split_2/split_dim}}]]\n",
      "2023-08-18 22:34:56.105431: I tensorflow/core/common_runtime/executor.cc:1197] [/device:CPU:0] (DEBUG INFO) Executor start aborting (this does not indicate an error and you can ignore this message): INVALID_ARGUMENT: You must feed a value for placeholder tensor 'gradients/split_grad/concat/split/split_dim' with dtype int32\n",
      "\t [[{{node gradients/split_grad/concat/split/split_dim}}]]\n",
      "2023-08-18 22:34:56.107346: I tensorflow/core/common_runtime/executor.cc:1197] [/device:CPU:0] (DEBUG INFO) Executor start aborting (this does not indicate an error and you can ignore this message): INVALID_ARGUMENT: You must feed a value for placeholder tensor 'gradients/split_1_grad/concat/split_1/split_dim' with dtype int32\n",
      "\t [[{{node gradients/split_1_grad/concat/split_1/split_dim}}]]\n",
      "2023-08-18 22:34:57.256138: I tensorflow/core/common_runtime/executor.cc:1197] [/device:CPU:0] (DEBUG INFO) Executor start aborting (this does not indicate an error and you can ignore this message): INVALID_ARGUMENT: You must feed a value for placeholder tensor 'gradients/split_2_grad/concat/split_2/split_dim' with dtype int32\n",
      "\t [[{{node gradients/split_2_grad/concat/split_2/split_dim}}]]\n",
      "2023-08-18 22:34:57.259666: I tensorflow/core/common_runtime/executor.cc:1197] [/device:CPU:0] (DEBUG INFO) Executor start aborting (this does not indicate an error and you can ignore this message): INVALID_ARGUMENT: You must feed a value for placeholder tensor 'gradients/split_grad/concat/split/split_dim' with dtype int32\n",
      "\t [[{{node gradients/split_grad/concat/split/split_dim}}]]\n",
      "2023-08-18 22:34:57.266110: I tensorflow/core/common_runtime/executor.cc:1197] [/device:CPU:0] (DEBUG INFO) Executor start aborting (this does not indicate an error and you can ignore this message): INVALID_ARGUMENT: You must feed a value for placeholder tensor 'gradients/split_1_grad/concat/split_1/split_dim' with dtype int32\n",
      "\t [[{{node gradients/split_1_grad/concat/split_1/split_dim}}]]\n"
     ]
    },
    {
     "name": "stdout",
     "output_type": "stream",
     "text": [
      "11/11 [==============================] - ETA: 0s - loss: 1.5846 - accuracy: 0.3156"
     ]
    },
    {
     "name": "stderr",
     "output_type": "stream",
     "text": [
      "2023-08-18 22:35:25.069703: I tensorflow/core/common_runtime/executor.cc:1197] [/device:CPU:0] (DEBUG INFO) Executor start aborting (this does not indicate an error and you can ignore this message): INVALID_ARGUMENT: You must feed a value for placeholder tensor 'gradients/split_2_grad/concat/split_2/split_dim' with dtype int32\n",
      "\t [[{{node gradients/split_2_grad/concat/split_2/split_dim}}]]\n",
      "2023-08-18 22:35:25.072082: I tensorflow/core/common_runtime/executor.cc:1197] [/device:CPU:0] (DEBUG INFO) Executor start aborting (this does not indicate an error and you can ignore this message): INVALID_ARGUMENT: You must feed a value for placeholder tensor 'gradients/split_grad/concat/split/split_dim' with dtype int32\n",
      "\t [[{{node gradients/split_grad/concat/split/split_dim}}]]\n",
      "2023-08-18 22:35:25.075080: I tensorflow/core/common_runtime/executor.cc:1197] [/device:CPU:0] (DEBUG INFO) Executor start aborting (this does not indicate an error and you can ignore this message): INVALID_ARGUMENT: You must feed a value for placeholder tensor 'gradients/split_1_grad/concat/split_1/split_dim' with dtype int32\n",
      "\t [[{{node gradients/split_1_grad/concat/split_1/split_dim}}]]\n"
     ]
    },
    {
     "name": "stdout",
     "output_type": "stream",
     "text": [
      "11/11 [==============================] - 31s 2s/step - loss: 1.5846 - accuracy: 0.3156 - val_loss: 1.4491 - val_accuracy: 0.3889\n",
      "Epoch 2/20\n",
      "11/11 [==============================] - 20s 2s/step - loss: 1.4753 - accuracy: 0.3453 - val_loss: 1.4219 - val_accuracy: 0.3750\n",
      "Epoch 3/20\n",
      "11/11 [==============================] - 20s 2s/step - loss: 1.4612 - accuracy: 0.3503 - val_loss: 1.4170 - val_accuracy: 0.3715\n",
      "Epoch 4/20\n",
      "11/11 [==============================] - 21s 2s/step - loss: 1.4427 - accuracy: 0.3735 - val_loss: 1.4134 - val_accuracy: 0.3958\n",
      "Epoch 5/20\n",
      "11/11 [==============================] - 21s 2s/step - loss: 1.4332 - accuracy: 0.3743 - val_loss: 1.4017 - val_accuracy: 0.3785\n",
      "Epoch 6/20\n",
      "11/11 [==============================] - 20s 2s/step - loss: 1.4144 - accuracy: 0.3936 - val_loss: 1.3955 - val_accuracy: 0.3993\n",
      "Epoch 7/20\n",
      "11/11 [==============================] - 20s 2s/step - loss: 1.3874 - accuracy: 0.4210 - val_loss: 1.3956 - val_accuracy: 0.4340\n",
      "Epoch 8/20\n",
      "11/11 [==============================] - 20s 2s/step - loss: 1.3735 - accuracy: 0.4284 - val_loss: 1.3697 - val_accuracy: 0.4549\n",
      "Epoch 9/20\n",
      "11/11 [==============================] - 20s 2s/step - loss: 1.3752 - accuracy: 0.4210 - val_loss: 1.3667 - val_accuracy: 0.4236\n",
      "Epoch 10/20\n",
      "11/11 [==============================] - 22s 2s/step - loss: 1.3476 - accuracy: 0.4226 - val_loss: 1.3637 - val_accuracy: 0.4062\n",
      "Epoch 11/20\n",
      "11/11 [==============================] - 21s 2s/step - loss: 1.3362 - accuracy: 0.4303 - val_loss: 1.3582 - val_accuracy: 0.4444\n",
      "Epoch 12/20\n",
      "11/11 [==============================] - 20s 2s/step - loss: 1.3232 - accuracy: 0.4480 - val_loss: 1.3217 - val_accuracy: 0.4410\n",
      "Epoch 13/20\n",
      "11/11 [==============================] - 19s 2s/step - loss: 1.2887 - accuracy: 0.4708 - val_loss: 1.3638 - val_accuracy: 0.4375\n",
      "Epoch 14/20\n",
      "11/11 [==============================] - 19s 2s/step - loss: 1.2948 - accuracy: 0.4747 - val_loss: 1.3330 - val_accuracy: 0.4410\n",
      "Epoch 15/20\n",
      "11/11 [==============================] - 19s 2s/step - loss: 1.2812 - accuracy: 0.4828 - val_loss: 1.3976 - val_accuracy: 0.4479\n",
      "Epoch 16/20\n",
      "11/11 [==============================] - 19s 2s/step - loss: 1.3707 - accuracy: 0.4488 - val_loss: 1.3602 - val_accuracy: 0.4514\n",
      "Epoch 17/20\n",
      "11/11 [==============================] - 19s 2s/step - loss: 1.3300 - accuracy: 0.4620 - val_loss: 1.3273 - val_accuracy: 0.4653\n",
      "Epoch 18/20\n",
      "11/11 [==============================] - 19s 2s/step - loss: 1.3157 - accuracy: 0.4805 - val_loss: 1.3021 - val_accuracy: 0.4931\n",
      "Epoch 19/20\n",
      "11/11 [==============================] - 19s 2s/step - loss: 1.2562 - accuracy: 0.5168 - val_loss: 1.2833 - val_accuracy: 0.4583\n",
      "Epoch 20/20\n",
      "11/11 [==============================] - 19s 2s/step - loss: 1.2403 - accuracy: 0.5307 - val_loss: 1.2969 - val_accuracy: 0.5069\n",
      "CPU times: user 2min 36s, sys: 51 s, total: 3min 27s\n",
      "Wall time: 6min 48s\n"
     ]
    }
   ],
   "source": [
    "%%time\n",
    "history = lstm_model.fit(X_train, np.asarray(Y_train), validation_data=(X_val, np.asarray(Y_val)), batch_size = batch_size, epochs = epochs)"
   ]
  },
  {
   "cell_type": "code",
   "execution_count": 43,
   "id": "1c327305",
   "metadata": {},
   "outputs": [
    {
     "data": {
      "image/png": "[encoded data removed]",
      "text/plain": [
       "<Figure size 640x480 with 1 Axes>"
      ]
     },
     "metadata": {},
     "output_type": "display_data"
    }
   ],
   "source": [
    "#plot accuracy\n",
    "\n",
    "plot_accuracy(history,epochs,f\"[lstm_model] batch_size={batch_size}; epochs={epochs}; emb_dim={emb_dim}\")"
   ]
  },
  {
   "cell_type": "code",
   "execution_count": 44,
   "id": "0e3daa6a",
   "metadata": {},
   "outputs": [
    {
     "name": "stdout",
     "output_type": "stream",
     "text": [
      "Train accuracy: 50.25\n",
      "Test accuracy: 45.16\n"
     ]
    }
   ],
   "source": [
    "# Accuracy\n",
    "train_test_accuracy(lstm_model,X_train,Y_train,X_test,Y_test)\n"
   ]
  },
  {
   "cell_type": "code",
   "execution_count": null,
   "id": "c386d408",
   "metadata": {},
   "outputs": [],
   "source": [
    "new_complaint = ['I am a victim of identity theft and someone stole my identity and personal information to open up a Visa credit card account with Bank of America. The following Bank of America Visa credit card account do not belong to me : XXXX.']\n",
    "seq = tokenizer.texts_to_sequences(new_complaint)\n",
    "padded = pad_sequences(seq, maxlen=MAX_SEQUENCE_LENGTH)\n",
    "pred = model.predict(padded)\n",
    "labels = ['Credit reporting, credit repair services, or other personal consumer reports', 'Debt collection', 'Mortgage', 'Credit card or prepaid card', 'Student loan', 'Bank account or service', 'Checking or savings account', 'Consumer Loan', 'Payday loan, title loan, or personal loan', 'Vehicle loan or lease', 'Money transfer, virtual currency, or money service', 'Money transfers', 'Prepaid card']\n",
    "print(pred, labels[np.argmax(pred)])"
   ]
  },
  {
   "cell_type": "code",
   "execution_count": 51,
   "id": "d50bb6c1",
   "metadata": {},
   "outputs": [
    {
     "name": "stdout",
     "output_type": "stream",
     "text": [
      "1/1 [==============================] - 0s 109ms/step\n",
      "Text: ['switchfoot http twitpiccom 2y1zl awww thats bummer shoulda got david carr third day']\n",
      "[[0.19751681 0.2579868  0.37857354 0.618169   0.61942196 0.8571506 ]] 5\n",
      "\n",
      "\n",
      "\n",
      "prediction shape: (1, 6)\n",
      "prediction: [[0.19751681 0.2579868  0.37857354 0.618169   0.61942196 0.8571506 ]]\n"
     ]
    }
   ],
   "source": [
    "### kinds of cause:\n",
    "# - 1 = No reason\n",
    "# - 2 = Bias or abuse\n",
    "# - 3 = Jobs and careers\n",
    "# - 4 = Medication\n",
    "# - 5 = Relationships\n",
    "# - 6 = Alienation\n",
    "\n",
    "read_file_predict = pd.read_csv('./data/tweets_to_predict_test.csv', encoding = \"ISO-8859-1\")\n",
    "\n",
    "# predict data  | fields = \"target\",\"ids\",\"date\",\"flag\",\"user\",\"text\"\n",
    "df_predict = pd.DataFrame(read_file_predict,columns= ['target','text'])\n",
    "df_predict = df_predict.convert_dtypes() # Convert columns to the best possible\n",
    "df_predict.dropna(inplace=True)\n",
    "df_predict = df_predict[df_predict.target == 0]\n",
    "\n",
    "##predict data\n",
    "df_predict = df_predict.reset_index(drop=True)\n",
    "df_predict['text'] = df_predict['text'].apply(clean_text)\n",
    "df_predict['text'] = df_predict['text'].str.replace('\\d+', '')\n",
    "\n",
    "\n",
    "X_predict = tokenizer.texts_to_sequences(df_predict['text'][:1].values)\n",
    "X_predict = pad_sequences(X_predict, maxlen=maxlen)\n",
    "pred = lstm_model.predict(X_predict)\n",
    "labels = [\"0\", \"1\", \"2\", \"3\", \"4\", \"5\"]\n",
    "print(\"Text:\", df_predict['text'][:1].values)\n",
    "print(pred, labels[np.argmax(pred)])\n",
    "print('\\n\\n')\n",
    "print(\"prediction shape:\", pred.shape)\n",
    "print(\"prediction:\", pred)"
   ]
  },
  {
   "cell_type": "code",
   "execution_count": null,
   "id": "675a8948",
   "metadata": {},
   "outputs": [],
   "source": [
    "# np.asarray([float(val) for val in values[1:]])\n",
    "# tt_predict = np.array(tt_predict)\n",
    "model_pr = lstm_model.predict(X_predict[:10],verbose=1)\n",
    "print(f\"prediction: {model_pr.shape}\") "
   ]
  },
  {
   "cell_type": "code",
   "execution_count": null,
   "id": "1b5cfae7",
   "metadata": {},
   "outputs": [],
   "source": [
    "#Classification report\n",
    "report_nn(lstm_model,X_test,Y_test)"
   ]
  },
  {
   "cell_type": "markdown",
   "id": "57ba0f5c",
   "metadata": {},
   "source": [
    "#### b) CNN"
   ]
  },
  {
   "cell_type": "code",
   "execution_count": null,
   "id": "4958a265",
   "metadata": {},
   "outputs": [],
   "source": [
    "cnn_model=CNN_model(embedding_matrix,vocab_len)"
   ]
  },
  {
   "cell_type": "markdown",
   "id": "f07a61c1",
   "metadata": {},
   "source": [
    "##### Train the model"
   ]
  },
  {
   "cell_type": "code",
   "execution_count": null,
   "id": "7b2178e8",
   "metadata": {},
   "outputs": [],
   "source": [
    "%%time\n",
    "history = cnn_model.fit(X_train, np.asarray(Y_train), validation_data=(X_val, np.asarray(Y_val)),batch_size = batch_size, epochs = epochs)"
   ]
  },
  {
   "cell_type": "code",
   "execution_count": null,
   "id": "bf65a127",
   "metadata": {},
   "outputs": [],
   "source": [
    "#plot accuracy\n",
    "plot_accuracy(history,epochs,f\"[cnn_model] batch_size={batch_size}; epochs={epochs}; emb_dim={emb_dim}\")"
   ]
  },
  {
   "cell_type": "code",
   "execution_count": null,
   "id": "6facdda7",
   "metadata": {},
   "outputs": [],
   "source": [
    "# Accuracy\n",
    "train_test_accuracy(cnn_model,X_train,Y_train,X_test,Y_test)"
   ]
  },
  {
   "cell_type": "code",
   "execution_count": null,
   "id": "284f0d5c",
   "metadata": {},
   "outputs": [],
   "source": [
    "#Classification report\n",
    "report_nn(cnn_model,X_test,Y_test)"
   ]
  },
  {
   "cell_type": "markdown",
   "id": "41211722",
   "metadata": {},
   "source": [
    "#### d) GRU"
   ]
  },
  {
   "cell_type": "code",
   "execution_count": null,
   "id": "f3f75416",
   "metadata": {},
   "outputs": [],
   "source": [
    "gru_model = GRU_model(embedding_matrix,vocab_len)"
   ]
  },
  {
   "cell_type": "code",
   "execution_count": null,
   "id": "93f1934e",
   "metadata": {},
   "outputs": [],
   "source": [
    "%%time\n",
    "history = gru_model.fit(X_train, np.asarray(Y_train), validation_data=(X_val, np.asarray(Y_val)), batch_size = batch_size, epochs = epochs)"
   ]
  },
  {
   "cell_type": "code",
   "execution_count": null,
   "id": "1f800d30",
   "metadata": {},
   "outputs": [],
   "source": [
    "#plot accuracy\n",
    "plot_accuracy(history,epochs,f\"[gru_model] batch_size={batch_size}; epochs={epochs}; emb_dim={emb_dim}\")"
   ]
  },
  {
   "cell_type": "code",
   "execution_count": null,
   "id": "798392d3",
   "metadata": {},
   "outputs": [],
   "source": [
    "# Accuracy\n",
    "train_test_accuracy(gru_model,X_train,Y_train,X_test,Y_test)"
   ]
  },
  {
   "cell_type": "code",
   "execution_count": null,
   "id": "3346397e",
   "metadata": {},
   "outputs": [],
   "source": [
    "#Classification report\n",
    "report_nn(gru_model,X_test,Y_test)\n"
   ]
  },
  {
   "cell_type": "markdown",
   "id": "2bf3e6f3",
   "metadata": {},
   "source": [
    "#### e) CNN+GRU"
   ]
  },
  {
   "cell_type": "code",
   "execution_count": null,
   "id": "31cc6538",
   "metadata": {},
   "outputs": [],
   "source": [
    "cnn_gru_model = CNN_GRU_model(embedding_matrix,vocab_len)"
   ]
  },
  {
   "cell_type": "code",
   "execution_count": null,
   "id": "4217fb1d",
   "metadata": {},
   "outputs": [],
   "source": [
    "%%time\n",
    "history=cnn_gru_model.fit(X_train, np.asarray(Y_train), validation_data=(X_val, np.asarray(Y_val)),epochs=epochs, batch_size=batch_size)"
   ]
  },
  {
   "cell_type": "code",
   "execution_count": null,
   "id": "b447a9ab",
   "metadata": {},
   "outputs": [],
   "source": [
    "#plot accuracy\n",
    "plot_accuracy(history,epochs,f\"[cnn_gru_model] batch_size={batch_size}; epochs={epochs}; emb_dim={emb_dim}\")"
   ]
  },
  {
   "cell_type": "code",
   "execution_count": null,
   "id": "3917939f",
   "metadata": {},
   "outputs": [],
   "source": [
    "# Accuracy\n",
    "train_test_accuracy(cnn_gru_model,X_train,Y_train,X_test,Y_test)"
   ]
  },
  {
   "cell_type": "code",
   "execution_count": null,
   "id": "e65751a8",
   "metadata": {},
   "outputs": [],
   "source": [
    "#Classification report\n",
    "report_nn(cnn_gru_model,X_test,Y_test)"
   ]
  },
  {
   "cell_type": "markdown",
   "id": "eca4da46",
   "metadata": {},
   "source": [
    "#### f) CNN+LSTM"
   ]
  },
  {
   "cell_type": "code",
   "execution_count": null,
   "id": "3124034e",
   "metadata": {},
   "outputs": [],
   "source": [
    "cnn_lstm_model = CNN_LSTM_model(embedding_matrix,vocab_len)"
   ]
  },
  {
   "cell_type": "code",
   "execution_count": null,
   "id": "a71d3b12",
   "metadata": {},
   "outputs": [],
   "source": [
    "%%time\n",
    "history=cnn_lstm_model.fit(X_train, np.asarray(Y_train), validation_data=(X_val, np.asarray(Y_val)),epochs=epochs, batch_size=batch_size)"
   ]
  },
  {
   "cell_type": "code",
   "execution_count": null,
   "id": "998f7586",
   "metadata": {},
   "outputs": [],
   "source": [
    "#plot accuracy\n",
    "plot_accuracy(history, epochs,f\"[cnn_lstm_model] batch_size={batch_size}; epochs={epochs}; emb_dim={emb_dim}\")"
   ]
  },
  {
   "cell_type": "code",
   "execution_count": null,
   "id": "0a0697dc",
   "metadata": {},
   "outputs": [],
   "source": [
    "# Accuracy\n",
    "train_test_accuracy(cnn_lstm_model,X_train,Y_train,X_test,Y_test)"
   ]
  },
  {
   "cell_type": "code",
   "execution_count": null,
   "id": "3cc249b2",
   "metadata": {},
   "outputs": [],
   "source": [
    "#Classification report\n",
    "report_nn(cnn_lstm_model,X_test,Y_test)"
   ]
  },
  {
   "cell_type": "markdown",
   "id": "8b9d2838",
   "metadata": {},
   "source": [
    "##### Confusion Matrix"
   ]
  },
  {
   "cell_type": "code",
   "execution_count": null,
   "id": "74ced08b",
   "metadata": {},
   "outputs": [],
   "source": [
    "#cnn_lstm_model0=cnn_lstm_model\n",
    "print('--Confusion Matrix for CNN+LSTM--')\n",
    "print_confusion(cnn_lstm_model,X_test,Y_test)"
   ]
  },
  {
   "cell_type": "markdown",
   "id": "32e1d892",
   "metadata": {},
   "source": [
    "#### Bidirectional LSTM models"
   ]
  },
  {
   "cell_type": "code",
   "execution_count": null,
   "id": "29038356",
   "metadata": {},
   "outputs": [],
   "source": [
    "lstmbd_model = BID_LSTM_model(embedding_matrix,vocab_len,emb_dim)"
   ]
  },
  {
   "cell_type": "code",
   "execution_count": null,
   "id": "a21856f2",
   "metadata": {},
   "outputs": [],
   "source": [
    "%%time\n",
    "history=lstmbd_model.fit(X_train, np.asarray(Y_train), validation_data=(X_val, np.asarray(Y_val)),epochs=epochs, batch_size=batch_size)"
   ]
  },
  {
   "cell_type": "code",
   "execution_count": null,
   "id": "e76ab166",
   "metadata": {},
   "outputs": [],
   "source": [
    "#plot accuracy\n",
    "plot_accuracy(history,epochs,f\"[lstmbd_model] batch_size={batch_size}; epochs={epochs}; emb_dim={emb_dim}\")"
   ]
  },
  {
   "cell_type": "code",
   "execution_count": null,
   "id": "8247af34",
   "metadata": {},
   "outputs": [],
   "source": [
    "# Accuracy\n",
    "train_test_accuracy(lstmbd_model,X_train,Y_train,X_test,Y_test)"
   ]
  },
  {
   "cell_type": "code",
   "execution_count": null,
   "id": "926f9f00",
   "metadata": {},
   "outputs": [],
   "source": [
    "#Classification report\n",
    "report_nn(lstmbd_model,X_test,Y_test)"
   ]
  },
  {
   "cell_type": "markdown",
   "id": "da6ddb5e",
   "metadata": {},
   "source": [
    "#### Bidirectional GRU"
   ]
  },
  {
   "cell_type": "code",
   "execution_count": null,
   "id": "b04a1db7",
   "metadata": {},
   "outputs": [],
   "source": [
    "grubd_model = BID_GRU_model(embedding_matrix,vocab_len,emb_dim)"
   ]
  },
  {
   "cell_type": "code",
   "execution_count": null,
   "id": "72ce52a6",
   "metadata": {},
   "outputs": [],
   "source": [
    "%%time\n",
    "history=grubd_model.fit(X_train, np.asarray(Y_train), validation_data=(X_val, np.asarray(Y_val)),epochs=epochs, batch_size=batch_size)"
   ]
  },
  {
   "cell_type": "code",
   "execution_count": null,
   "id": "ef7f10aa",
   "metadata": {},
   "outputs": [],
   "source": [
    "#plot accuracy\n",
    "plot_accuracy(history,epochs,f\"[grubd_model] batch_size={batch_size}; epochs={epochs}; emb_dim={emb_dim}\")"
   ]
  },
  {
   "cell_type": "code",
   "execution_count": null,
   "id": "df09b1f9",
   "metadata": {},
   "outputs": [],
   "source": [
    "# Accuracy\n",
    "train_test_accuracy(grubd_model,X_train,Y_train,X_test,Y_test)"
   ]
  },
  {
   "cell_type": "code",
   "execution_count": null,
   "id": "fe095440",
   "metadata": {
    "scrolled": true
   },
   "outputs": [],
   "source": [
    "#Classification report\n",
    "report_nn(grubd_model,X_test,Y_test)"
   ]
  }
 ],
 "metadata": {
  "kernelspec": {
   "display_name": "Python 3 (ipykernel)",
   "language": "python",
   "name": "python3"
  },
  "language_info": {
   "codemirror_mode": {
    "name": "ipython",
    "version": 3
   },
   "file_extension": ".py",
   "mimetype": "text/x-python",
   "name": "python",
   "nbconvert_exporter": "python",
   "pygments_lexer": "ipython3",
   "version": "3.10.12"
  }
 },
 "nbformat": 4,
 "nbformat_minor": 5
}

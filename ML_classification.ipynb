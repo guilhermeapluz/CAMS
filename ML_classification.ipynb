{
 "cells": [
  {
   "cell_type": "code",
   "execution_count": 1,
   "id": "76b9fd56",
   "metadata": {},
   "outputs": [
    {
     "name": "stderr",
     "output_type": "stream",
     "text": [
      "2023-08-07 23:56:42.202340: I tensorflow/tsl/cuda/cudart_stub.cc:28] Could not find cuda drivers on your machine, GPU will not be used.\n",
      "2023-08-07 23:56:44.816429: I tensorflow/tsl/cuda/cudart_stub.cc:28] Could not find cuda drivers on your machine, GPU will not be used.\n",
      "2023-08-07 23:56:44.818712: I tensorflow/core/platform/cpu_feature_guard.cc:182] This TensorFlow binary is optimized to use available CPU instructions in performance-critical operations.\n",
      "To enable the following instructions: AVX2 AVX512F FMA, in other operations, rebuild TensorFlow with the appropriate compiler flags.\n",
      "2023-08-07 23:56:51.038572: W tensorflow/compiler/tf2tensorrt/utils/py_utils.cc:38] TF-TRT Warning: Could not find TensorRT\n",
      "[nltk_data] Downloading package stopwords to /home/vscode/nltk_data...\n",
      "[nltk_data]   Package stopwords is already up-to-date!\n"
     ]
    }
   ],
   "source": [
    "import pandas as pd\n",
    "import pickle\n",
    "\n",
    "# REMOVED\n",
    "#import torch\n",
    "#import transformers\n",
    "#from torch.utils.data import Dataset, DataLoader\n",
    "\n",
    "from sklearn.model_selection import train_test_split\n",
    "import sys\n",
    "import csv\n",
    "import re\n",
    "from tqdm.notebook import tqdm\n",
    "import sys\n",
    "import csv\n",
    "from tensorflow.keras.preprocessing.sequence import pad_sequences\n",
    "from keras.preprocessing.text import Tokenizer\n",
    "import nltk\n",
    "nltk.download('stopwords')\n",
    "from nltk.corpus import stopwords\n",
    "from nltk import word_tokenize\n",
    "STOPWORDS = set(stopwords.words('english'))\n",
    "from bs4 import BeautifulSoup\n",
    "from src.preprocess import *\n",
    "from src.models import *\n",
    "from src.lib import *"
   ]
  },
  {
   "cell_type": "markdown",
   "id": "d0e79b42",
   "metadata": {},
   "source": [
    "## Explore data\n",
    "\n",
    "### kinds of cause:\n",
    "- 1 = No reason\n",
    "- 2 = Bias or abuse\n",
    "- 3 = Jobs and careers\n",
    "- 4 = Medication\n",
    "- 5 = Relationships\n",
    "- 6 = Alienation"
   ]
  },
  {
   "cell_type": "code",
   "execution_count": 2,
   "id": "1781aeb4",
   "metadata": {},
   "outputs": [],
   "source": [
    "import numpy as np\n",
    "import pandas as pd\n",
    "\n",
    "## Training and Testing files\n",
    "read_file_training = pd.read_csv('./data/added_CAMS_data.csv', encoding=\"ISO-8859-1\")\n",
    "read_file_testing = pd.read_csv('./data/IntentSDCNL_Testing.csv', encoding = \"ISO-8859-1\")\n",
    "\n",
    "\n",
    "\n",
    "#training data\n",
    "df_train=pd.DataFrame(read_file_training,columns= ['selftext','cause', 'inference'])### \n",
    "df_train = df_train.rename(\n",
    "    columns={'selftext': 'text'})\n",
    "df_train= df_train.convert_dtypes()\n",
    "\n",
    "#testing data\n",
    "df_test=pd.DataFrame(read_file_testing,columns= ['selftext','ANNOTATIONS', 'Interpretations'])#### \n",
    "df_test = df_test.rename(columns={'selftext': 'text', 'ANNOTATIONS': 'cause', 'Interpretations': 'inference'})\n",
    "df_test= df_test.convert_dtypes()\n",
    "\n",
    "## Sampling file\n",
    "# df_samples=pd.read_csv('./data/sample.csv', encoding = \"ISO-8859-1\")\n",
    "\n",
    "## add samples to training file\n",
    "\n",
    "frame = [df_train]\n",
    "df_train =  pd.concat(frame)"
   ]
  },
  {
   "cell_type": "code",
   "execution_count": 3,
   "id": "a81b1b81",
   "metadata": {},
   "outputs": [],
   "source": [
    "df_test.drop(df_test[df_test.text==\"emptypost\"].index, inplace=True)\n",
    "df_test.drop(df_test[df_test.cause==\" \"].index, inplace=True)\n",
    "df_test.drop(df_test[df_test.inference==\" \"].index, inplace=True)\n",
    "\n",
    "# print(df_train)\n",
    "\n",
    "df_train.drop(df_train[df_train.text==\"emptypost\"].index, inplace=True)\n",
    "df_train.drop(df_train[df_train.cause==\" \"].index, inplace=True)\n",
    "df_train.drop(df_train[df_train.inference==\" \"].index, inplace=True)\n",
    "\n",
    "df_test.dropna(inplace=True)\n",
    "df_train.dropna(inplace=True)"
   ]
  },
  {
   "cell_type": "code",
   "execution_count": 4,
   "id": "84a878dd",
   "metadata": {},
   "outputs": [
    {
     "name": "stdout",
     "output_type": "stream",
     "text": [
      "<class 'pandas.core.frame.DataFrame'>\n",
      "Index: 2877 entries, 0 to 3152\n",
      "Data columns (total 3 columns):\n",
      " #   Column     Non-Null Count  Dtype \n",
      "---  ------     --------------  ----- \n",
      " 0   text       2877 non-null   string\n",
      " 1   cause      2877 non-null   Int64 \n",
      " 2   inference  2877 non-null   string\n",
      "dtypes: Int64(1), string(2)\n",
      "memory usage: 92.7 KB\n"
     ]
    }
   ],
   "source": [
    "df_train.info()"
   ]
  },
  {
   "cell_type": "code",
   "execution_count": 5,
   "id": "ce4c734c",
   "metadata": {},
   "outputs": [
    {
     "name": "stdout",
     "output_type": "stream",
     "text": [
      "###### Class distribution of training data #####\n"
     ]
    },
    {
     "data": {
      "text/plain": [
       "<Axes: ylabel='count'>"
      ]
     },
     "execution_count": 5,
     "metadata": {},
     "output_type": "execute_result"
    },
    {
     "data": {
      "image/png": "[encoded data removed]",
      "text/plain": [
       "<Figure size 500x500 with 1 Axes>"
      ]
     },
     "metadata": {},
     "output_type": "display_data"
    }
   ],
   "source": [
    "import matplotlib.pyplot as plt\n",
    "print(\"###### Class distribution of training data #####\")\n",
    "labels = [\"0\", \"1\", \"2\", \"3\", \"4\", \"5\"]\n",
    "fig, ax = plt.subplots(1, 1, figsize=(5,5))\n",
    "df_train['cause'].value_counts().plot.pie(autopct = '%1.1f%%', labels=labels)\n"
   ]
  },
  {
   "cell_type": "code",
   "execution_count": 6,
   "id": "731db500",
   "metadata": {},
   "outputs": [
    {
     "name": "stdout",
     "output_type": "stream",
     "text": [
      "###### Class distribution of testing data #####\n"
     ]
    },
    {
     "data": {
      "text/plain": [
       "<Axes: ylabel='count'>"
      ]
     },
     "execution_count": 6,
     "metadata": {},
     "output_type": "execute_result"
    },
    {
     "data": {
      "image/png": "[encoded data removed]",
      "text/plain": [
       "<Figure size 500x500 with 1 Axes>"
      ]
     },
     "metadata": {},
     "output_type": "display_data"
    }
   ],
   "source": [
    "\n",
    "print(\"###### Class distribution of testing data #####\")\n",
    "labels = [\"0\", \"1\", \"2\", \"3\", \"4\", \"5\"]\n",
    "fig, ax = plt.subplots(1, 1, figsize=(5,5))\n",
    "df_test['cause'].value_counts().plot.pie(autopct = '%1.1f%%', labels=labels)\n"
   ]
  },
  {
   "cell_type": "code",
   "execution_count": 7,
   "id": "cca269e9",
   "metadata": {},
   "outputs": [
    {
     "data": {
      "text/plain": [
       "cause\n",
       "5    92\n",
       "4    91\n",
       "2    48\n",
       "3    43\n",
       "1    35\n",
       "0    32\n",
       "Name: count, dtype: Int64"
      ]
     },
     "execution_count": 7,
     "metadata": {},
     "output_type": "execute_result"
    }
   ],
   "source": [
    "df_test['cause'].value_counts()"
   ]
  },
  {
   "cell_type": "code",
   "execution_count": 8,
   "id": "6fd664e7",
   "metadata": {},
   "outputs": [
    {
     "data": {
      "text/html": [
       "<div>\n",
       "<style scoped>\n",
       "    .dataframe tbody tr th:only-of-type {\n",
       "        vertical-align: middle;\n",
       "    }\n",
       "\n",
       "    .dataframe tbody tr th {\n",
       "        vertical-align: top;\n",
       "    }\n",
       "\n",
       "    .dataframe thead th {\n",
       "        text-align: right;\n",
       "    }\n",
       "</style>\n",
       "<table border=\"1\" class=\"dataframe\">\n",
       "  <thead>\n",
       "    <tr style=\"text-align: right;\">\n",
       "      <th></th>\n",
       "      <th>text</th>\n",
       "      <th>cause</th>\n",
       "      <th>inference</th>\n",
       "    </tr>\n",
       "  </thead>\n",
       "  <tbody>\n",
       "    <tr>\n",
       "      <th>0</th>\n",
       "      <td>Indubitably, I am not worth anything as a bein...</td>\n",
       "      <td>1</td>\n",
       "      <td>not productive, worthless, hate, bored , issue...</td>\n",
       "    </tr>\n",
       "    <tr>\n",
       "      <th>1</th>\n",
       "      <td>Almost everyday I wake up hating myself, why w...</td>\n",
       "      <td>5</td>\n",
       "      <td>feeling trapped, paranoid, barely talks to me,...</td>\n",
       "    </tr>\n",
       "    <tr>\n",
       "      <th>2</th>\n",
       "      <td>To kill myself if im ugly?</td>\n",
       "      <td>1</td>\n",
       "      <td>ugly</td>\n",
       "    </tr>\n",
       "    <tr>\n",
       "      <th>3</th>\n",
       "      <td>God help me.... I know I should go to the hosp...</td>\n",
       "      <td>1</td>\n",
       "      <td>abuse suffered, hard person to love, scars, cy...</td>\n",
       "    </tr>\n",
       "    <tr>\n",
       "      <th>4</th>\n",
       "      <td>I really don't want to do anything anymore. Wh...</td>\n",
       "      <td>2</td>\n",
       "      <td>wasting money, sulking, failure, disappointmen...</td>\n",
       "    </tr>\n",
       "    <tr>\n",
       "      <th>...</th>\n",
       "      <td>...</td>\n",
       "      <td>...</td>\n",
       "      <td>...</td>\n",
       "    </tr>\n",
       "    <tr>\n",
       "      <th>3148</th>\n",
       "      <td>I'm sitting here just reading all your guy's a...</td>\n",
       "      <td>4</td>\n",
       "      <td>living with grandmother to care, lost two aunt...</td>\n",
       "    </tr>\n",
       "    <tr>\n",
       "      <th>3149</th>\n",
       "      <td>Recently,I have developed a extremely annoying...</td>\n",
       "      <td>3</td>\n",
       "      <td>cant get words out of mouth, social anxiety, m...</td>\n",
       "    </tr>\n",
       "    <tr>\n",
       "      <th>3150</th>\n",
       "      <td>My depression has taken everything. I'm nearly...</td>\n",
       "      <td>5</td>\n",
       "      <td>suffering from depression for 10 years, lost g...</td>\n",
       "    </tr>\n",
       "    <tr>\n",
       "      <th>3151</th>\n",
       "      <td>Hey guys, I'm a 22 year old male from Australi...</td>\n",
       "      <td>3</td>\n",
       "      <td>borderline personality disorder</td>\n",
       "    </tr>\n",
       "    <tr>\n",
       "      <th>3152</th>\n",
       "      <td>Not sure how to start this. So ill start by te...</td>\n",
       "      <td>5</td>\n",
       "      <td>parents and girlfriend really supportive,, don...</td>\n",
       "    </tr>\n",
       "  </tbody>\n",
       "</table>\n",
       "<p>3218 rows × 3 columns</p>\n",
       "</div>"
      ],
      "text/plain": [
       "                                                   text  cause   \n",
       "0     Indubitably, I am not worth anything as a bein...      1  \\\n",
       "1     Almost everyday I wake up hating myself, why w...      5   \n",
       "2                            To kill myself if im ugly?      1   \n",
       "3     God help me.... I know I should go to the hosp...      1   \n",
       "4     I really don't want to do anything anymore. Wh...      2   \n",
       "...                                                 ...    ...   \n",
       "3148  I'm sitting here just reading all your guy's a...      4   \n",
       "3149  Recently,I have developed a extremely annoying...      3   \n",
       "3150  My depression has taken everything. I'm nearly...      5   \n",
       "3151  Hey guys, I'm a 22 year old male from Australi...      3   \n",
       "3152  Not sure how to start this. So ill start by te...      5   \n",
       "\n",
       "                                              inference  \n",
       "0     not productive, worthless, hate, bored , issue...  \n",
       "1     feeling trapped, paranoid, barely talks to me,...  \n",
       "2                                                  ugly  \n",
       "3     abuse suffered, hard person to love, scars, cy...  \n",
       "4     wasting money, sulking, failure, disappointmen...  \n",
       "...                                                 ...  \n",
       "3148  living with grandmother to care, lost two aunt...  \n",
       "3149  cant get words out of mouth, social anxiety, m...  \n",
       "3150  suffering from depression for 10 years, lost g...  \n",
       "3151                    borderline personality disorder  \n",
       "3152  parents and girlfriend really supportive,, don...  \n",
       "\n",
       "[3218 rows x 3 columns]"
      ]
     },
     "execution_count": 8,
     "metadata": {},
     "output_type": "execute_result"
    }
   ],
   "source": [
    "frame = [df_test, df_train]\n",
    "data =  pd.concat(frame)\n",
    "data"
   ]
  },
  {
   "cell_type": "markdown",
   "id": "44b85644",
   "metadata": {},
   "source": [
    "#### A Sample"
   ]
  },
  {
   "cell_type": "code",
   "execution_count": 9,
   "id": "be17c2c9",
   "metadata": {},
   "outputs": [
    {
     "name": "stdout",
     "output_type": "stream",
     "text": [
      "I look like a drug addict. I lost so much weight and I can't hold down much food without throwing up. I literally look anorexic. My eye bags are so bad too. They're so dark and deep. How can I stop these effects? My mom sees it and I don't want her to know I'm depressed. She told me I look horrible. I don't like to tell people I have depression either because knowing people they'll make me feel like my depression \"isn't that bad.\" So I just look like a drug addict to everyone and I need this to stop. \n",
      "text: 3\n"
     ]
    }
   ],
   "source": [
    "print_plot(df_train,0)"
   ]
  },
  {
   "cell_type": "markdown",
   "id": "72b8bf9b",
   "metadata": {},
   "source": [
    "## Clean and preprocess the text"
   ]
  },
  {
   "cell_type": "markdown",
   "id": "440f4d70",
   "metadata": {},
   "source": [
    "####  Clean Training and Testing data"
   ]
  },
  {
   "cell_type": "code",
   "execution_count": 10,
   "id": "6e2af759",
   "metadata": {},
   "outputs": [],
   "source": [
    "REPLACE_BY_SPACE_RE = re.compile('[/(){}\\[\\]\\|@,;]')\n",
    "BAD_SYMBOLS_RE = re.compile('[^0-9a-z #+_]')\n",
    "STOPWORDS = set(stopwords.words('english'))\n",
    "\n",
    "def clean_text(text):\n",
    "    text = text.lower() \n",
    "    text = REPLACE_BY_SPACE_RE.sub(' ', text) \n",
    "    text = BAD_SYMBOLS_RE.sub('', text)     \n",
    "    text = text.replace('x', '')\n",
    "    text = ' '.join(word for word in text.split() if word not in STOPWORDS) # remove stopwors from text\n",
    "    return text\n",
    "\n",
    "\n",
    "#training data\n",
    "df_train = df_train.reset_index(drop=True)\n",
    "df_train['text'] = df_train['text'].apply(clean_text)\n",
    "df_train['text'] = df_train['text'].apply(clean_text)\n",
    "\n",
    "##testing data\n",
    "df_train = df_train.reset_index(drop=True)\n",
    "df_test['text'] = df_test['text'].apply(clean_text)\n",
    "df_test['text'] = df_test['text'].str.replace('\\d+', '')"
   ]
  },
  {
   "cell_type": "markdown",
   "id": "4b991f54",
   "metadata": {},
   "source": [
    "#### A sample after cleanup"
   ]
  },
  {
   "cell_type": "code",
   "execution_count": 11,
   "id": "46136ca9",
   "metadata": {},
   "outputs": [
    {
     "name": "stdout",
     "output_type": "stream",
     "text": [
      "look like drug addict lost much weight cant hold much food without throwing literally look anoreic eye bags bad theyre dark deep stop effects mom sees dont want know im depressed told look horrible dont like tell people depression either knowing people theyll make feel like depression isnt bad look like drug addict everyone need stop\n",
      "text: 3\n"
     ]
    }
   ],
   "source": [
    "print_plot(df_train,0)"
   ]
  },
  {
   "cell_type": "markdown",
   "id": "e1a980db",
   "metadata": {},
   "source": [
    "#### Intialize parameters"
   ]
  },
  {
   "cell_type": "code",
   "execution_count": 12,
   "id": "9e5dd333",
   "metadata": {},
   "outputs": [],
   "source": [
    "# Define some Global Variables\n",
    "max_nb_words = 60000\n",
    "max_features = 10543 # Maximum Number of words we want to include in our dictionary\n",
    "maxlen = 500 # No of words in question we want to create a sequence with\n",
    "emb_dim = 100 # Size of word to vec embedding we are usingtokenizer = Tokenizer(num_words=max_nb_words, filters='!\"#$%&()*+,-./:;<=>?@[\\]^_`{|}~', lower=True)\n"
   ]
  },
  {
   "cell_type": "markdown",
   "id": "d50a645a",
   "metadata": {},
   "source": [
    "#### Initial Tokenizer"
   ]
  },
  {
   "cell_type": "code",
   "execution_count": 13,
   "id": "354197dc",
   "metadata": {},
   "outputs": [
    {
     "name": "stdout",
     "output_type": "stream",
     "text": [
      "Found 18102 unique tokens.\n"
     ]
    }
   ],
   "source": [
    "tokenizer = Tokenizer(num_words=max_nb_words, filters='!\"#$%&()*+,-./:;<=>?@[\\]^_`{|}~', lower=True)\n",
    "tokenizer.fit_on_texts(data['text'].values)# tokenizer on whole training and testing data\n",
    "word_index = tokenizer.word_index\n",
    "print('Found %s unique tokens.' % len(word_index))"
   ]
  },
  {
   "cell_type": "code",
   "execution_count": 14,
   "id": "4a4e6cf3",
   "metadata": {},
   "outputs": [
    {
     "name": "stdout",
     "output_type": "stream",
     "text": [
      "Shape of data tensor: (2877, 500)\n"
     ]
    }
   ],
   "source": [
    "X_train = tokenizer.texts_to_sequences(df_train['text'].values)\n",
    "X_train = pad_sequences(X_train, maxlen=maxlen)\n",
    "print('Shape of data tensor:', X_train.shape)"
   ]
  },
  {
   "cell_type": "code",
   "execution_count": 15,
   "id": "bdd114a1",
   "metadata": {},
   "outputs": [
    {
     "name": "stdout",
     "output_type": "stream",
     "text": [
      "Shape of label tensor: (2877, 6)\n"
     ]
    }
   ],
   "source": [
    "Y_train = pd.get_dummies(df_train['cause']).values\n",
    "print('Shape of label tensor:', Y_train.shape)"
   ]
  },
  {
   "cell_type": "code",
   "execution_count": 16,
   "id": "b2c6178b",
   "metadata": {},
   "outputs": [
    {
     "name": "stdout",
     "output_type": "stream",
     "text": [
      "Shape of data tensor: (341, 500)\n"
     ]
    }
   ],
   "source": [
    "X_test = tokenizer.texts_to_sequences(df_test['text'].values)\n",
    "X_test = pad_sequences(X_test, maxlen=maxlen)\n",
    "print('Shape of data tensor:', X_test.shape)"
   ]
  },
  {
   "cell_type": "code",
   "execution_count": 17,
   "id": "8fcc9864",
   "metadata": {},
   "outputs": [
    {
     "name": "stdout",
     "output_type": "stream",
     "text": [
      "Shape of label tensor: (341, 6)\n"
     ]
    }
   ],
   "source": [
    "Y_test = pd.get_dummies(df_test['cause']).values\n",
    "print('Shape of label tensor:', Y_test.shape)"
   ]
  },
  {
   "cell_type": "markdown",
   "id": "4daadd61",
   "metadata": {},
   "source": [
    "### Finally some validation data from Training Data"
   ]
  },
  {
   "cell_type": "code",
   "execution_count": 18,
   "id": "749fdee7",
   "metadata": {},
   "outputs": [],
   "source": [
    "X_train, X_val, Y_train, Y_val = train_test_split(X_train,Y_train,random_state=0,test_size=0.1)"
   ]
  },
  {
   "cell_type": "code",
   "execution_count": 19,
   "id": "7170b77e",
   "metadata": {},
   "outputs": [
    {
     "name": "stdout",
     "output_type": "stream",
     "text": [
      "TrainingData (2589, 500) (2589, 6)\n",
      "TestingData (341, 500) (341, 6)\n",
      "ValidationData (288, 500) (288, 6)\n"
     ]
    }
   ],
   "source": [
    "print('TrainingData',X_train.shape,Y_train.shape)\n",
    "print('TestingData',X_test.shape,Y_test.shape)\n",
    "print('ValidationData',X_val.shape,Y_val.shape)\n"
   ]
  },
  {
   "cell_type": "code",
   "execution_count": 20,
   "id": "4464a0fd",
   "metadata": {},
   "outputs": [
    {
     "name": "stdout",
     "output_type": "stream",
     "text": [
      "test example: [    0     0     0     0     0     0     0     0     0     0     0     0\n",
      "     0     0     0     0     0     0     0     0     0     0     0     0\n",
      "     0     0     0     0     0     0     0     0     0     0     0     0\n",
      "     0     0     0     0     0     0     0     0     0     0     0     0\n",
      "     0     0     0     0     0     0     0     0     0     0     0     0\n",
      "     0     0     0     0     0     0     0     0     0     0     0     0\n",
      "     0     0     0     0     0     0     0     0     0     0     0     0\n",
      "     0     0     0     0     0     0     0     0     0     0     0     0\n",
      "     0     0     0     0     0     0     0     0     0     0     0     0\n",
      "     0     0     0     0     0     0     0     0     0     0     0     0\n",
      "     0     0     0     0     0     0     0     0     0     0     0     0\n",
      "     0     0     0     0     0     0     0     0     0     0     0     0\n",
      "     0     0     0     0     0     0     0     0     0     0     0     0\n",
      "     0     0     0     0     0     0     0     0     0     0     0     0\n",
      "     0     0     0     0     0     0     0     0     0     0     0     0\n",
      "     0     0     0     0     0     0     0     0     0     0     0     0\n",
      "     0     0     0     0     0     0     0     0     0     0     0     0\n",
      "     0     0     0     0     0     0     0     0     0     0     0     0\n",
      "     0     0     0     0     0     0     0     0     0     0     0     0\n",
      "     0     0     0     0     0     0     0     0     0     0     0     0\n",
      "     0     0     0     0     0     0     0     0     0     0     0     0\n",
      "     0     0     0     0     0     0     0     0     0     0     0     0\n",
      "     0     0     0     0     0     0     0     0     0     0     0     0\n",
      "     0     0     0     0     0     0     0     0     0     0     0     0\n",
      "     0     0     0     0     0     0     0     0     0     0     0     0\n",
      "     0     0     0     0     0     0     0     0     0     0     0     0\n",
      "     0     0     0     0     0     0     0     0     0     0     0     0\n",
      "     0     0     0     0     0     0     0     0     0     0     0     0\n",
      "     0     0     0     0     0     0     0     0     0     0     0     0\n",
      "     0     0     0     0     0     0     0     0     0     0     0     0\n",
      "     0     0     0     0     0     0     0     0     0     0     0     0\n",
      "     0     0     0     0     0     0     0     0     0     0     0     0\n",
      "     0     0     0     0     0     0     0     0     0     0     0     0\n",
      "     0     0     0     0     0     0     0     0     0     0     0     0\n",
      "     0     0     0     0     0     0     0     0     0     0     0     0\n",
      "     0     0     0     0     0     0     0     0     0     0     0     0\n",
      "     0     0     0     0     0     0     0     0   478    71  1445   504\n",
      "  2215   623   207  3816   106    49   477   386   623   429   166  1517\n",
      "   497   623  4630  2280    39  2619   504    90  1852   549   925    25\n",
      "  4168   144   166   103  1763   441   390   441   571  3499  4631  9704\n",
      "  6000  2909   392  3262  4632   433   691   596   501  2900   176  2349\n",
      "  7303   417    80  7304 15114  4633   129    38]\n"
     ]
    }
   ],
   "source": [
    "#print a test sample\n",
    "print('test example:', X_test[100])"
   ]
  },
  {
   "cell_type": "code",
   "execution_count": 21,
   "id": "c8539e19",
   "metadata": {},
   "outputs": [
    {
     "data": {
      "text/plain": [
       "500"
      ]
     },
     "execution_count": 21,
     "metadata": {},
     "output_type": "execute_result"
    }
   ],
   "source": [
    " len(X_test[100])"
   ]
  },
  {
   "cell_type": "markdown",
   "id": "c3f8e9b0",
   "metadata": {},
   "source": [
    "#### Intialize Embedding"
   ]
  },
  {
   "cell_type": "code",
   "execution_count": 22,
   "id": "ce41274e",
   "metadata": {},
   "outputs": [
    {
     "name": "stdout",
     "output_type": "stream",
     "text": [
      "Size of vocabulary in GloVe: 400000\n"
     ]
    }
   ],
   "source": [
    "embedding_vectors = {}\n",
    "emb_dim = 50\n",
    "with open(f'./embeddings/glove.6B.{emb_dim}d.txt','r',encoding='utf-8') as file:\n",
    "\n",
    "    for row in file:\n",
    "        values = row.split(' ')\n",
    "        word = values[0]\n",
    "        weights = np.asarray([float(val) for val in values[1:]])\n",
    "        embedding_vectors[word] = weights\n",
    "print(f\"Size of vocabulary in GloVe: {len(embedding_vectors)}\")   "
   ]
  },
  {
   "cell_type": "code",
   "execution_count": 23,
   "id": "f1cc5f7f",
   "metadata": {},
   "outputs": [
    {
     "name": "stdout",
     "output_type": "stream",
     "text": [
      "A few out of valubulary words: [\"i'm\", \"don't\", \"i've\", \"it's\", '\\n\\ni']\n"
     ]
    }
   ],
   "source": [
    "#initialize the embedding_matrix with zeros\n",
    "\n",
    "if max_nb_words is not None: \n",
    "    vocab_len = max_nb_words\n",
    "else:\n",
    "    vocab_len = len(word_index)+1\n",
    "embedding_matrix = np.zeros((vocab_len, emb_dim))\n",
    "oov_count = 0\n",
    "oov_words = []\n",
    "for word, idx in word_index.items():\n",
    "    if idx < vocab_len:\n",
    "        embedding_vector = embedding_vectors.get(word)\n",
    "        if embedding_vector is not None:\n",
    "            embedding_matrix[idx] = embedding_vector\n",
    "        else:\n",
    "            oov_count += 1 \n",
    "            oov_words.append(word)\n",
    "#Check some of the out of vocabulary words\n",
    "print(f'A few out of valubulary words: {oov_words[0:5]}')"
   ]
  },
  {
   "cell_type": "code",
   "execution_count": 24,
   "id": "9286940a",
   "metadata": {},
   "outputs": [
    {
     "name": "stdout",
     "output_type": "stream",
     "text": [
      "4066 out of 60000 words were OOV.\n"
     ]
    }
   ],
   "source": [
    "print(f'{oov_count} out of {vocab_len} words were OOV.')"
   ]
  },
  {
   "cell_type": "markdown",
   "id": "d0a6a8c1",
   "metadata": {},
   "source": [
    "## NN models"
   ]
  },
  {
   "cell_type": "code",
   "execution_count": 25,
   "id": "6ce9711f",
   "metadata": {},
   "outputs": [],
   "source": [
    "##Global variables\n",
    "batch_size = 256\n",
    "epochs  = 20"
   ]
  },
  {
   "cell_type": "markdown",
   "id": "9330e923",
   "metadata": {},
   "source": [
    "#### a) LSTM Model"
   ]
  },
  {
   "cell_type": "code",
   "execution_count": 26,
   "id": "c946bd87",
   "metadata": {},
   "outputs": [
    {
     "name": "stdout",
     "output_type": "stream",
     "text": [
      "Model: \"sequential\"\n",
      "_________________________________________________________________\n",
      " Layer (type)                Output Shape              Param #   \n",
      "=================================================================\n",
      " embedding (Embedding)       (None, None, 50)          3000000   \n",
      "                                                                 \n",
      " lstm (LSTM)                 (None, 128)               91648     \n",
      "                                                                 \n",
      " dropout (Dropout)           (None, 128)               0         \n",
      "                                                                 \n",
      " dense (Dense)               (None, 6)                 774       \n",
      "                                                                 \n",
      "=================================================================\n",
      "Total params: 3,092,422\n",
      "Trainable params: 92,422\n",
      "Non-trainable params: 3,000,000\n",
      "_________________________________________________________________\n",
      "None\n"
     ]
    },
    {
     "name": "stderr",
     "output_type": "stream",
     "text": [
      "2023-08-07 23:59:21.243911: I tensorflow/core/common_runtime/executor.cc:1197] [/device:CPU:0] (DEBUG INFO) Executor start aborting (this does not indicate an error and you can ignore this message): INVALID_ARGUMENT: You must feed a value for placeholder tensor 'gradients/split_2_grad/concat/split_2/split_dim' with dtype int32\n",
      "\t [[{{node gradients/split_2_grad/concat/split_2/split_dim}}]]\n",
      "2023-08-07 23:59:21.246760: I tensorflow/core/common_runtime/executor.cc:1197] [/device:CPU:0] (DEBUG INFO) Executor start aborting (this does not indicate an error and you can ignore this message): INVALID_ARGUMENT: You must feed a value for placeholder tensor 'gradients/split_grad/concat/split/split_dim' with dtype int32\n",
      "\t [[{{node gradients/split_grad/concat/split/split_dim}}]]\n",
      "2023-08-07 23:59:21.248231: I tensorflow/core/common_runtime/executor.cc:1197] [/device:CPU:0] (DEBUG INFO) Executor start aborting (this does not indicate an error and you can ignore this message): INVALID_ARGUMENT: You must feed a value for placeholder tensor 'gradients/split_1_grad/concat/split_1/split_dim' with dtype int32\n",
      "\t [[{{node gradients/split_1_grad/concat/split_1/split_dim}}]]\n"
     ]
    }
   ],
   "source": [
    "lstm_model = LSTM_model(embedding_matrix,vocab_len,emb_dim)"
   ]
  },
  {
   "cell_type": "markdown",
   "id": "30bbf47c",
   "metadata": {},
   "source": [
    "##### Train the model"
   ]
  },
  {
   "cell_type": "code",
   "execution_count": 27,
   "id": "4ce8e228",
   "metadata": {},
   "outputs": [
    {
     "name": "stdout",
     "output_type": "stream",
     "text": [
      "Epoch 1/20\n"
     ]
    },
    {
     "name": "stderr",
     "output_type": "stream",
     "text": [
      "2023-08-07 23:59:26.283569: I tensorflow/core/common_runtime/executor.cc:1197] [/device:CPU:0] (DEBUG INFO) Executor start aborting (this does not indicate an error and you can ignore this message): INVALID_ARGUMENT: You must feed a value for placeholder tensor 'gradients/split_2_grad/concat/split_2/split_dim' with dtype int32\n",
      "\t [[{{node gradients/split_2_grad/concat/split_2/split_dim}}]]\n",
      "2023-08-07 23:59:26.285738: I tensorflow/core/common_runtime/executor.cc:1197] [/device:CPU:0] (DEBUG INFO) Executor start aborting (this does not indicate an error and you can ignore this message): INVALID_ARGUMENT: You must feed a value for placeholder tensor 'gradients/split_grad/concat/split/split_dim' with dtype int32\n",
      "\t [[{{node gradients/split_grad/concat/split/split_dim}}]]\n",
      "2023-08-07 23:59:26.287639: I tensorflow/core/common_runtime/executor.cc:1197] [/device:CPU:0] (DEBUG INFO) Executor start aborting (this does not indicate an error and you can ignore this message): INVALID_ARGUMENT: You must feed a value for placeholder tensor 'gradients/split_1_grad/concat/split_1/split_dim' with dtype int32\n",
      "\t [[{{node gradients/split_1_grad/concat/split_1/split_dim}}]]\n",
      "2023-08-07 23:59:27.039070: I tensorflow/core/common_runtime/executor.cc:1197] [/device:CPU:0] (DEBUG INFO) Executor start aborting (this does not indicate an error and you can ignore this message): INVALID_ARGUMENT: You must feed a value for placeholder tensor 'gradients/split_2_grad/concat/split_2/split_dim' with dtype int32\n",
      "\t [[{{node gradients/split_2_grad/concat/split_2/split_dim}}]]\n",
      "2023-08-07 23:59:27.041004: I tensorflow/core/common_runtime/executor.cc:1197] [/device:CPU:0] (DEBUG INFO) Executor start aborting (this does not indicate an error and you can ignore this message): INVALID_ARGUMENT: You must feed a value for placeholder tensor 'gradients/split_grad/concat/split/split_dim' with dtype int32\n",
      "\t [[{{node gradients/split_grad/concat/split/split_dim}}]]\n",
      "2023-08-07 23:59:27.042371: I tensorflow/core/common_runtime/executor.cc:1197] [/device:CPU:0] (DEBUG INFO) Executor start aborting (this does not indicate an error and you can ignore this message): INVALID_ARGUMENT: You must feed a value for placeholder tensor 'gradients/split_1_grad/concat/split_1/split_dim' with dtype int32\n",
      "\t [[{{node gradients/split_1_grad/concat/split_1/split_dim}}]]\n"
     ]
    },
    {
     "name": "stdout",
     "output_type": "stream",
     "text": [
      "11/11 [==============================] - ETA: 0s - loss: 1.6542 - accuracy: 0.2758"
     ]
    },
    {
     "name": "stderr",
     "output_type": "stream",
     "text": [
      "2023-08-07 23:59:46.500793: I tensorflow/core/common_runtime/executor.cc:1197] [/device:CPU:0] (DEBUG INFO) Executor start aborting (this does not indicate an error and you can ignore this message): INVALID_ARGUMENT: You must feed a value for placeholder tensor 'gradients/split_2_grad/concat/split_2/split_dim' with dtype int32\n",
      "\t [[{{node gradients/split_2_grad/concat/split_2/split_dim}}]]\n",
      "2023-08-07 23:59:46.502816: I tensorflow/core/common_runtime/executor.cc:1197] [/device:CPU:0] (DEBUG INFO) Executor start aborting (this does not indicate an error and you can ignore this message): INVALID_ARGUMENT: You must feed a value for placeholder tensor 'gradients/split_grad/concat/split/split_dim' with dtype int32\n",
      "\t [[{{node gradients/split_grad/concat/split/split_dim}}]]\n",
      "2023-08-07 23:59:46.504258: I tensorflow/core/common_runtime/executor.cc:1197] [/device:CPU:0] (DEBUG INFO) Executor start aborting (this does not indicate an error and you can ignore this message): INVALID_ARGUMENT: You must feed a value for placeholder tensor 'gradients/split_1_grad/concat/split_1/split_dim' with dtype int32\n",
      "\t [[{{node gradients/split_1_grad/concat/split_1/split_dim}}]]\n"
     ]
    },
    {
     "name": "stdout",
     "output_type": "stream",
     "text": [
      "11/11 [==============================] - 21s 2s/step - loss: 1.6542 - accuracy: 0.2758 - val_loss: 1.4533 - val_accuracy: 0.3750\n",
      "Epoch 2/20\n",
      "11/11 [==============================] - 19s 2s/step - loss: 1.4889 - accuracy: 0.3376 - val_loss: 1.4335 - val_accuracy: 0.3681\n",
      "Epoch 3/20\n",
      "11/11 [==============================] - 18s 2s/step - loss: 1.4637 - accuracy: 0.3747 - val_loss: 1.4230 - val_accuracy: 0.3715\n",
      "Epoch 4/20\n",
      "11/11 [==============================] - 19s 2s/step - loss: 1.4521 - accuracy: 0.3635 - val_loss: 1.4161 - val_accuracy: 0.3924\n",
      "Epoch 5/20\n",
      "11/11 [==============================] - 19s 2s/step - loss: 1.4328 - accuracy: 0.3901 - val_loss: 1.4000 - val_accuracy: 0.4201\n",
      "Epoch 6/20\n",
      "11/11 [==============================] - 18s 2s/step - loss: 1.4115 - accuracy: 0.4171 - val_loss: 1.4398 - val_accuracy: 0.4028\n",
      "Epoch 7/20\n",
      "11/11 [==============================] - 18s 2s/step - loss: 1.4000 - accuracy: 0.4253 - val_loss: 1.3340 - val_accuracy: 0.4861\n",
      "Epoch 8/20\n",
      "11/11 [==============================] - 18s 2s/step - loss: 1.3974 - accuracy: 0.4195 - val_loss: 1.3382 - val_accuracy: 0.4757\n",
      "Epoch 9/20\n",
      "11/11 [==============================] - 19s 2s/step - loss: 1.3678 - accuracy: 0.4411 - val_loss: 1.4057 - val_accuracy: 0.4340\n",
      "Epoch 10/20\n",
      "11/11 [==============================] - 18s 2s/step - loss: 1.3765 - accuracy: 0.4314 - val_loss: 1.3365 - val_accuracy: 0.4688\n",
      "Epoch 11/20\n",
      "11/11 [==============================] - 17s 2s/step - loss: 1.3714 - accuracy: 0.4249 - val_loss: 1.3378 - val_accuracy: 0.4688\n",
      "Epoch 12/20\n",
      "11/11 [==============================] - 18s 2s/step - loss: 1.3401 - accuracy: 0.4620 - val_loss: 1.3176 - val_accuracy: 0.4826\n",
      "Epoch 13/20\n",
      "11/11 [==============================] - 17s 2s/step - loss: 1.3143 - accuracy: 0.4724 - val_loss: 1.3348 - val_accuracy: 0.4965\n",
      "Epoch 14/20\n",
      "11/11 [==============================] - 18s 2s/step - loss: 1.3215 - accuracy: 0.4766 - val_loss: 1.2944 - val_accuracy: 0.4896\n",
      "Epoch 15/20\n",
      "11/11 [==============================] - 18s 2s/step - loss: 1.3034 - accuracy: 0.4805 - val_loss: 1.2793 - val_accuracy: 0.4896\n",
      "Epoch 16/20\n",
      "11/11 [==============================] - 18s 2s/step - loss: 1.3129 - accuracy: 0.4751 - val_loss: 1.3476 - val_accuracy: 0.4479\n",
      "Epoch 17/20\n",
      "11/11 [==============================] - 17s 2s/step - loss: 1.3076 - accuracy: 0.4654 - val_loss: 1.2864 - val_accuracy: 0.5069\n",
      "Epoch 18/20\n",
      " 7/11 [==================>...........] - ETA: 7s - loss: 1.3612 - accuracy: 0.4180"
     ]
    },
    {
     "ename": "",
     "evalue": "",
     "output_type": "error",
     "traceback": [
      "\u001b[1;31mCannot execute code, session has been disposed. Please try restarting the Kernel."
     ]
    },
    {
     "ename": "",
     "evalue": "",
     "output_type": "error",
     "traceback": [
      "\u001b[1;31mThe Kernel crashed while executing code in the the current cell or a previous cell. Please review the code in the cell(s) to identify a possible cause of the failure. Click <a href='https://aka.ms/vscodeJupyterKernelCrash'>here</a> for more info. View Jupyter <a href='command:jupyter.viewOutput'>log</a> for further details."
     ]
    }
   ],
   "source": [
    "%%time\n",
    "history = lstm_model.fit(X_train, np.asarray(Y_train), validation_data=(X_val, np.asarray(Y_val)), batch_size = batch_size, epochs = epochs)"
   ]
  },
  {
   "cell_type": "code",
   "execution_count": 30,
   "id": "1c327305",
   "metadata": {},
   "outputs": [
    {
     "data": {
      "image/png": "[encoded data removed]",
      "text/plain": [
       "<Figure size 1500x700 with 1 Axes>"
      ]
     },
     "metadata": {},
     "output_type": "display_data"
    }
   ],
   "source": [
    "#plot accuracy\n",
    "plot_accuracy(history,epochs)"
   ]
  },
  {
   "cell_type": "code",
   "execution_count": 31,
   "id": "0e3daa6a",
   "metadata": {},
   "outputs": [
    {
     "name": "stdout",
     "output_type": "stream",
     "text": [
      "Train accuracy: 46.00\n",
      "Test accuracy: 38.12\n"
     ]
    }
   ],
   "source": [
    "# Accuracy\n",
    "train_test_accuracy(lstm_model,X_train,Y_train,X_test,Y_test)"
   ]
  },
  {
   "cell_type": "code",
   "execution_count": 32,
   "id": "1b5cfae7",
   "metadata": {},
   "outputs": [
    {
     "name": "stderr",
     "output_type": "stream",
     "text": [
      "2023-08-06 18:29:15.758203: I tensorflow/core/common_runtime/executor.cc:1197] [/device:CPU:0] (DEBUG INFO) Executor start aborting (this does not indicate an error and you can ignore this message): INVALID_ARGUMENT: You must feed a value for placeholder tensor 'gradients/split_2_grad/concat/split_2/split_dim' with dtype int32\n",
      "\t [[{{node gradients/split_2_grad/concat/split_2/split_dim}}]]\n",
      "2023-08-06 18:29:15.761064: I tensorflow/core/common_runtime/executor.cc:1197] [/device:CPU:0] (DEBUG INFO) Executor start aborting (this does not indicate an error and you can ignore this message): INVALID_ARGUMENT: You must feed a value for placeholder tensor 'gradients/split_grad/concat/split/split_dim' with dtype int32\n",
      "\t [[{{node gradients/split_grad/concat/split/split_dim}}]]\n",
      "2023-08-06 18:29:15.763384: I tensorflow/core/common_runtime/executor.cc:1197] [/device:CPU:0] (DEBUG INFO) Executor start aborting (this does not indicate an error and you can ignore this message): INVALID_ARGUMENT: You must feed a value for placeholder tensor 'gradients/split_1_grad/concat/split_1/split_dim' with dtype int32\n",
      "\t [[{{node gradients/split_1_grad/concat/split_1/split_dim}}]]\n"
     ]
    },
    {
     "name": "stdout",
     "output_type": "stream",
     "text": [
      "11/11 [==============================] - 2s 144ms/step\n",
      "              precision    recall  f1-score   support\n",
      "\n",
      "           0       0.00      0.00      0.00        32\n",
      "           1       0.00      0.00      0.00        35\n",
      "           2       0.33      0.29      0.31        48\n",
      "           3       0.24      0.19      0.21        43\n",
      "           4       0.54      0.31      0.39        91\n",
      "           5       0.38      0.87      0.52        92\n",
      "\n",
      "    accuracy                           0.38       341\n",
      "   macro avg       0.25      0.28      0.24       341\n",
      "weighted avg       0.32      0.38      0.32       341\n",
      "\n",
      "accuracy: 0.381\n"
     ]
    },
    {
     "name": "stderr",
     "output_type": "stream",
     "text": [
      "/usr/local/python/3.8.17/lib/python3.8/site-packages/sklearn/metrics/_classification.py:1469: UndefinedMetricWarning: Precision and F-score are ill-defined and being set to 0.0 in labels with no predicted samples. Use `zero_division` parameter to control this behavior.\n",
      "  _warn_prf(average, modifier, msg_start, len(result))\n",
      "/usr/local/python/3.8.17/lib/python3.8/site-packages/sklearn/metrics/_classification.py:1469: UndefinedMetricWarning: Precision and F-score are ill-defined and being set to 0.0 in labels with no predicted samples. Use `zero_division` parameter to control this behavior.\n",
      "  _warn_prf(average, modifier, msg_start, len(result))\n",
      "/usr/local/python/3.8.17/lib/python3.8/site-packages/sklearn/metrics/_classification.py:1469: UndefinedMetricWarning: Precision and F-score are ill-defined and being set to 0.0 in labels with no predicted samples. Use `zero_division` parameter to control this behavior.\n",
      "  _warn_prf(average, modifier, msg_start, len(result))\n"
     ]
    }
   ],
   "source": [
    "#Classification report\n",
    "report_nn(lstm_model,X_test,Y_test)"
   ]
  },
  {
   "cell_type": "markdown",
   "id": "57ba0f5c",
   "metadata": {},
   "source": [
    "#### b) CNN"
   ]
  },
  {
   "cell_type": "code",
   "execution_count": 33,
   "id": "4958a265",
   "metadata": {},
   "outputs": [
    {
     "name": "stdout",
     "output_type": "stream",
     "text": [
      "Model: \"sequential_1\"\n",
      "_________________________________________________________________\n",
      " Layer (type)                Output Shape              Param #   \n",
      "=================================================================\n",
      " embedding_1 (Embedding)     (None, None, 50)          3000000   \n",
      "                                                                 \n",
      " conv1d (Conv1D)             (None, None, 128)         19328     \n",
      "                                                                 \n",
      " max_pooling1d (MaxPooling1D  (None, None, 128)        0         \n",
      " )                                                               \n",
      "                                                                 \n",
      " conv1d_1 (Conv1D)           (None, None, 128)         49280     \n",
      "                                                                 \n",
      " global_max_pooling1d (Globa  (None, 128)              0         \n",
      " lMaxPooling1D)                                                  \n",
      "                                                                 \n",
      " dense_1 (Dense)             (None, 6)                 774       \n",
      "                                                                 \n",
      "=================================================================\n",
      "Total params: 3,069,382\n",
      "Trainable params: 69,382\n",
      "Non-trainable params: 3,000,000\n",
      "_________________________________________________________________\n"
     ]
    }
   ],
   "source": [
    "cnn_model=CNN_model(embedding_matrix,vocab_len)"
   ]
  },
  {
   "cell_type": "markdown",
   "id": "f07a61c1",
   "metadata": {},
   "source": [
    "##### Train the model"
   ]
  },
  {
   "cell_type": "code",
   "execution_count": 34,
   "id": "7b2178e8",
   "metadata": {},
   "outputs": [
    {
     "name": "stdout",
     "output_type": "stream",
     "text": [
      "Epoch 1/20\n",
      "11/11 [==============================] - 6s 390ms/step - loss: 1.5856 - accuracy: 0.3272 - val_loss: 1.4254 - val_accuracy: 0.3681\n",
      "Epoch 2/20\n",
      "11/11 [==============================] - 4s 354ms/step - loss: 1.3991 - accuracy: 0.3955 - val_loss: 1.3695 - val_accuracy: 0.3819\n",
      "Epoch 3/20\n",
      "11/11 [==============================] - 4s 358ms/step - loss: 1.3290 - accuracy: 0.4511 - val_loss: 1.3284 - val_accuracy: 0.4653\n",
      "Epoch 4/20\n",
      "11/11 [==============================] - 4s 352ms/step - loss: 1.2660 - accuracy: 0.5110 - val_loss: 1.2936 - val_accuracy: 0.4757\n",
      "Epoch 5/20\n",
      "11/11 [==============================] - 4s 341ms/step - loss: 1.2074 - accuracy: 0.5396 - val_loss: 1.2767 - val_accuracy: 0.4861\n",
      "Epoch 6/20\n",
      "11/11 [==============================] - 4s 361ms/step - loss: 1.1640 - accuracy: 0.5751 - val_loss: 1.2413 - val_accuracy: 0.4896\n",
      "Epoch 7/20\n",
      "11/11 [==============================] - 4s 351ms/step - loss: 1.1035 - accuracy: 0.6022 - val_loss: 1.2246 - val_accuracy: 0.5000\n",
      "Epoch 8/20\n",
      "11/11 [==============================] - 4s 351ms/step - loss: 1.0674 - accuracy: 0.6207 - val_loss: 1.2274 - val_accuracy: 0.5139\n",
      "Epoch 9/20\n",
      "11/11 [==============================] - 4s 353ms/step - loss: 1.0420 - accuracy: 0.6203 - val_loss: 1.2013 - val_accuracy: 0.4965\n",
      "Epoch 10/20\n",
      "11/11 [==============================] - 4s 357ms/step - loss: 0.9906 - accuracy: 0.6524 - val_loss: 1.1950 - val_accuracy: 0.5486\n",
      "Epoch 11/20\n",
      "11/11 [==============================] - 4s 349ms/step - loss: 0.9597 - accuracy: 0.6655 - val_loss: 1.1937 - val_accuracy: 0.5069\n",
      "Epoch 12/20\n",
      "11/11 [==============================] - 4s 350ms/step - loss: 0.9347 - accuracy: 0.6763 - val_loss: 1.2196 - val_accuracy: 0.4896\n",
      "Epoch 13/20\n",
      "11/11 [==============================] - 4s 345ms/step - loss: 0.9104 - accuracy: 0.6891 - val_loss: 1.2107 - val_accuracy: 0.5104\n",
      "Epoch 14/20\n",
      "11/11 [==============================] - 4s 351ms/step - loss: 0.8720 - accuracy: 0.7057 - val_loss: 1.2197 - val_accuracy: 0.5104\n",
      "Epoch 15/20\n",
      "11/11 [==============================] - 4s 351ms/step - loss: 0.8467 - accuracy: 0.7146 - val_loss: 1.1855 - val_accuracy: 0.5139\n",
      "Epoch 16/20\n",
      "11/11 [==============================] - 4s 354ms/step - loss: 0.7950 - accuracy: 0.7497 - val_loss: 1.2319 - val_accuracy: 0.4757\n",
      "Epoch 17/20\n",
      "11/11 [==============================] - 4s 366ms/step - loss: 0.7924 - accuracy: 0.7428 - val_loss: 1.2230 - val_accuracy: 0.5347\n",
      "Epoch 18/20\n",
      "11/11 [==============================] - 4s 359ms/step - loss: 0.7526 - accuracy: 0.7694 - val_loss: 1.1996 - val_accuracy: 0.5312\n",
      "Epoch 19/20\n",
      "11/11 [==============================] - 4s 349ms/step - loss: 0.7238 - accuracy: 0.7802 - val_loss: 1.2826 - val_accuracy: 0.4444\n",
      "Epoch 20/20\n",
      "11/11 [==============================] - 4s 350ms/step - loss: 0.7438 - accuracy: 0.7447 - val_loss: 1.2718 - val_accuracy: 0.4826\n",
      "CPU times: user 2min 1s, sys: 15.1 s, total: 2min 17s\n",
      "Wall time: 1min 22s\n"
     ]
    }
   ],
   "source": [
    "%%time\n",
    "history = cnn_model.fit(X_train, np.asarray(Y_train), validation_data=(X_val, np.asarray(Y_val)),batch_size = batch_size, epochs = epochs)"
   ]
  },
  {
   "cell_type": "code",
   "execution_count": 35,
   "id": "bf65a127",
   "metadata": {},
   "outputs": [
    {
     "data": {
      "image/png": "[encoded data removed]",
      "text/plain": [
       "<Figure size 1500x700 with 1 Axes>"
      ]
     },
     "metadata": {},
     "output_type": "display_data"
    }
   ],
   "source": [
    "#plot accuracy\n",
    "plot_accuracy(history,epochs)"
   ]
  },
  {
   "cell_type": "code",
   "execution_count": 36,
   "id": "6facdda7",
   "metadata": {},
   "outputs": [
    {
     "name": "stdout",
     "output_type": "stream",
     "text": [
      "Train accuracy: 74.04\n",
      "Test accuracy: 43.70\n"
     ]
    }
   ],
   "source": [
    "# Accuracy\n",
    "train_test_accuracy(cnn_model,X_train,Y_train,X_test,Y_test)"
   ]
  },
  {
   "cell_type": "code",
   "execution_count": 37,
   "id": "284f0d5c",
   "metadata": {},
   "outputs": [
    {
     "name": "stdout",
     "output_type": "stream",
     "text": [
      "11/11 [==============================] - 0s 13ms/step\n",
      "              precision    recall  f1-score   support\n",
      "\n",
      "           0       0.00      0.00      0.00        32\n",
      "           1       0.60      0.09      0.15        35\n",
      "           2       0.57      0.33      0.42        48\n",
      "           3       0.58      0.42      0.49        43\n",
      "           4       0.68      0.33      0.44        91\n",
      "           5       0.35      0.89      0.50        92\n",
      "\n",
      "    accuracy                           0.44       341\n",
      "   macro avg       0.46      0.34      0.33       341\n",
      "weighted avg       0.49      0.44      0.39       341\n",
      "\n",
      "accuracy: 0.437\n"
     ]
    },
    {
     "name": "stderr",
     "output_type": "stream",
     "text": [
      "/usr/local/python/3.8.17/lib/python3.8/site-packages/sklearn/metrics/_classification.py:1469: UndefinedMetricWarning: Precision and F-score are ill-defined and being set to 0.0 in labels with no predicted samples. Use `zero_division` parameter to control this behavior.\n",
      "  _warn_prf(average, modifier, msg_start, len(result))\n",
      "/usr/local/python/3.8.17/lib/python3.8/site-packages/sklearn/metrics/_classification.py:1469: UndefinedMetricWarning: Precision and F-score are ill-defined and being set to 0.0 in labels with no predicted samples. Use `zero_division` parameter to control this behavior.\n",
      "  _warn_prf(average, modifier, msg_start, len(result))\n",
      "/usr/local/python/3.8.17/lib/python3.8/site-packages/sklearn/metrics/_classification.py:1469: UndefinedMetricWarning: Precision and F-score are ill-defined and being set to 0.0 in labels with no predicted samples. Use `zero_division` parameter to control this behavior.\n",
      "  _warn_prf(average, modifier, msg_start, len(result))\n"
     ]
    }
   ],
   "source": [
    "#Classification report\n",
    "report_nn(cnn_model,X_test,Y_test)"
   ]
  },
  {
   "cell_type": "markdown",
   "id": "41211722",
   "metadata": {},
   "source": [
    "#### d) GRU"
   ]
  },
  {
   "cell_type": "code",
   "execution_count": 38,
   "id": "f3f75416",
   "metadata": {},
   "outputs": [
    {
     "name": "stdout",
     "output_type": "stream",
     "text": [
      "Model: \"sequential_2\"\n",
      "_________________________________________________________________\n",
      " Layer (type)                Output Shape              Param #   \n",
      "=================================================================\n",
      " embedding_2 (Embedding)     (None, None, 50)          3000000   \n",
      "                                                                 \n",
      " gru (GRU)                   (None, 128)               69120     \n",
      "                                                                 \n",
      " dropout_1 (Dropout)         (None, 128)               0         \n",
      "                                                                 \n",
      " dense_2 (Dense)             (None, 6)                 774       \n",
      "                                                                 \n",
      "=================================================================\n",
      "Total params: 3,069,894\n",
      "Trainable params: 69,894\n",
      "Non-trainable params: 3,000,000\n",
      "_________________________________________________________________\n"
     ]
    },
    {
     "name": "stderr",
     "output_type": "stream",
     "text": [
      "2023-08-06 18:32:59.414967: I tensorflow/core/common_runtime/executor.cc:1197] [/device:CPU:0] (DEBUG INFO) Executor start aborting (this does not indicate an error and you can ignore this message): INVALID_ARGUMENT: You must feed a value for placeholder tensor 'gradients/split_2_grad/concat/split_2/split_dim' with dtype int32\n",
      "\t [[{{node gradients/split_2_grad/concat/split_2/split_dim}}]]\n",
      "2023-08-06 18:32:59.416843: I tensorflow/core/common_runtime/executor.cc:1197] [/device:CPU:0] (DEBUG INFO) Executor start aborting (this does not indicate an error and you can ignore this message): INVALID_ARGUMENT: You must feed a value for placeholder tensor 'gradients/split_grad/concat/split/split_dim' with dtype int32\n",
      "\t [[{{node gradients/split_grad/concat/split/split_dim}}]]\n",
      "2023-08-06 18:32:59.418129: I tensorflow/core/common_runtime/executor.cc:1197] [/device:CPU:0] (DEBUG INFO) Executor start aborting (this does not indicate an error and you can ignore this message): INVALID_ARGUMENT: You must feed a value for placeholder tensor 'gradients/split_1_grad/concat/split_1/split_dim' with dtype int32\n",
      "\t [[{{node gradients/split_1_grad/concat/split_1/split_dim}}]]\n"
     ]
    }
   ],
   "source": [
    "gru_model = GRU_model(embedding_matrix,vocab_len)"
   ]
  },
  {
   "cell_type": "code",
   "execution_count": 39,
   "id": "93f1934e",
   "metadata": {},
   "outputs": [
    {
     "name": "stdout",
     "output_type": "stream",
     "text": [
      "Epoch 1/20\n"
     ]
    },
    {
     "name": "stderr",
     "output_type": "stream",
     "text": [
      "2023-08-06 18:33:05.658798: I tensorflow/core/common_runtime/executor.cc:1197] [/device:CPU:0] (DEBUG INFO) Executor start aborting (this does not indicate an error and you can ignore this message): INVALID_ARGUMENT: You must feed a value for placeholder tensor 'gradients/split_2_grad/concat/split_2/split_dim' with dtype int32\n",
      "\t [[{{node gradients/split_2_grad/concat/split_2/split_dim}}]]\n",
      "2023-08-06 18:33:05.661442: I tensorflow/core/common_runtime/executor.cc:1197] [/device:CPU:0] (DEBUG INFO) Executor start aborting (this does not indicate an error and you can ignore this message): INVALID_ARGUMENT: You must feed a value for placeholder tensor 'gradients/split_grad/concat/split/split_dim' with dtype int32\n",
      "\t [[{{node gradients/split_grad/concat/split/split_dim}}]]\n",
      "2023-08-06 18:33:05.663777: I tensorflow/core/common_runtime/executor.cc:1197] [/device:CPU:0] (DEBUG INFO) Executor start aborting (this does not indicate an error and you can ignore this message): INVALID_ARGUMENT: You must feed a value for placeholder tensor 'gradients/split_1_grad/concat/split_1/split_dim' with dtype int32\n",
      "\t [[{{node gradients/split_1_grad/concat/split_1/split_dim}}]]\n",
      "2023-08-06 18:33:06.368393: I tensorflow/core/common_runtime/executor.cc:1197] [/device:CPU:0] (DEBUG INFO) Executor start aborting (this does not indicate an error and you can ignore this message): INVALID_ARGUMENT: You must feed a value for placeholder tensor 'gradients/split_2_grad/concat/split_2/split_dim' with dtype int32\n",
      "\t [[{{node gradients/split_2_grad/concat/split_2/split_dim}}]]\n",
      "2023-08-06 18:33:06.370157: I tensorflow/core/common_runtime/executor.cc:1197] [/device:CPU:0] (DEBUG INFO) Executor start aborting (this does not indicate an error and you can ignore this message): INVALID_ARGUMENT: You must feed a value for placeholder tensor 'gradients/split_grad/concat/split/split_dim' with dtype int32\n",
      "\t [[{{node gradients/split_grad/concat/split/split_dim}}]]\n",
      "2023-08-06 18:33:06.371917: I tensorflow/core/common_runtime/executor.cc:1197] [/device:CPU:0] (DEBUG INFO) Executor start aborting (this does not indicate an error and you can ignore this message): INVALID_ARGUMENT: You must feed a value for placeholder tensor 'gradients/split_1_grad/concat/split_1/split_dim' with dtype int32\n",
      "\t [[{{node gradients/split_1_grad/concat/split_1/split_dim}}]]\n"
     ]
    },
    {
     "name": "stdout",
     "output_type": "stream",
     "text": [
      "11/11 [==============================] - ETA: 0s - loss: 1.6223 - accuracy: 0.3071"
     ]
    },
    {
     "name": "stderr",
     "output_type": "stream",
     "text": [
      "2023-08-06 18:33:21.088076: I tensorflow/core/common_runtime/executor.cc:1197] [/device:CPU:0] (DEBUG INFO) Executor start aborting (this does not indicate an error and you can ignore this message): INVALID_ARGUMENT: You must feed a value for placeholder tensor 'gradients/split_2_grad/concat/split_2/split_dim' with dtype int32\n",
      "\t [[{{node gradients/split_2_grad/concat/split_2/split_dim}}]]\n",
      "2023-08-06 18:33:21.090454: I tensorflow/core/common_runtime/executor.cc:1197] [/device:CPU:0] (DEBUG INFO) Executor start aborting (this does not indicate an error and you can ignore this message): INVALID_ARGUMENT: You must feed a value for placeholder tensor 'gradients/split_grad/concat/split/split_dim' with dtype int32\n",
      "\t [[{{node gradients/split_grad/concat/split/split_dim}}]]\n",
      "2023-08-06 18:33:21.092103: I tensorflow/core/common_runtime/executor.cc:1197] [/device:CPU:0] (DEBUG INFO) Executor start aborting (this does not indicate an error and you can ignore this message): INVALID_ARGUMENT: You must feed a value for placeholder tensor 'gradients/split_1_grad/concat/split_1/split_dim' with dtype int32\n",
      "\t [[{{node gradients/split_1_grad/concat/split_1/split_dim}}]]\n"
     ]
    },
    {
     "name": "stdout",
     "output_type": "stream",
     "text": [
      "11/11 [==============================] - 16s 1s/step - loss: 1.6223 - accuracy: 0.3071 - val_loss: 1.4668 - val_accuracy: 0.2778\n",
      "Epoch 2/20\n",
      "11/11 [==============================] - 13s 1s/step - loss: 1.5129 - accuracy: 0.3337 - val_loss: 1.4554 - val_accuracy: 0.3472\n",
      "Epoch 3/20\n",
      "11/11 [==============================] - 14s 1s/step - loss: 1.4927 - accuracy: 0.3399 - val_loss: 1.4384 - val_accuracy: 0.3264\n",
      "Epoch 4/20\n",
      "11/11 [==============================] - 14s 1s/step - loss: 1.4650 - accuracy: 0.3600 - val_loss: 1.4354 - val_accuracy: 0.3715\n",
      "Epoch 5/20\n",
      "11/11 [==============================] - 14s 1s/step - loss: 1.4532 - accuracy: 0.3727 - val_loss: 1.4299 - val_accuracy: 0.3507\n",
      "Epoch 6/20\n",
      "11/11 [==============================] - 14s 1s/step - loss: 1.4392 - accuracy: 0.3747 - val_loss: 1.4277 - val_accuracy: 0.3472\n",
      "Epoch 7/20\n",
      "11/11 [==============================] - 14s 1s/step - loss: 1.4377 - accuracy: 0.3631 - val_loss: 1.4256 - val_accuracy: 0.3472\n",
      "Epoch 8/20\n",
      "11/11 [==============================] - 14s 1s/step - loss: 1.4249 - accuracy: 0.3913 - val_loss: 1.4230 - val_accuracy: 0.3542\n",
      "Epoch 9/20\n",
      "11/11 [==============================] - 14s 1s/step - loss: 1.4145 - accuracy: 0.3893 - val_loss: 1.4137 - val_accuracy: 0.3993\n",
      "Epoch 10/20\n",
      "11/11 [==============================] - 14s 1s/step - loss: 1.4082 - accuracy: 0.3978 - val_loss: 1.4093 - val_accuracy: 0.3958\n",
      "Epoch 11/20\n",
      "11/11 [==============================] - 14s 1s/step - loss: 1.3956 - accuracy: 0.3944 - val_loss: 1.4013 - val_accuracy: 0.3993\n",
      "Epoch 12/20\n",
      "11/11 [==============================] - 14s 1s/step - loss: 1.3937 - accuracy: 0.4017 - val_loss: 1.4156 - val_accuracy: 0.3785\n",
      "Epoch 13/20\n",
      "11/11 [==============================] - 14s 1s/step - loss: 1.3705 - accuracy: 0.4210 - val_loss: 1.3715 - val_accuracy: 0.4062\n",
      "Epoch 14/20\n",
      "11/11 [==============================] - 14s 1s/step - loss: 1.3387 - accuracy: 0.4419 - val_loss: 1.3624 - val_accuracy: 0.4514\n",
      "Epoch 15/20\n",
      "11/11 [==============================] - 14s 1s/step - loss: 1.3250 - accuracy: 0.4523 - val_loss: 1.3380 - val_accuracy: 0.4444\n",
      "Epoch 16/20\n",
      "11/11 [==============================] - 14s 1s/step - loss: 1.3030 - accuracy: 0.4616 - val_loss: 1.3376 - val_accuracy: 0.4583\n",
      "Epoch 17/20\n",
      "11/11 [==============================] - 14s 1s/step - loss: 1.2927 - accuracy: 0.4755 - val_loss: 1.3120 - val_accuracy: 0.4688\n",
      "Epoch 18/20\n",
      "11/11 [==============================] - 14s 1s/step - loss: 1.2935 - accuracy: 0.4759 - val_loss: 1.3077 - val_accuracy: 0.4722\n",
      "Epoch 19/20\n",
      "11/11 [==============================] - 14s 1s/step - loss: 1.2794 - accuracy: 0.4824 - val_loss: 1.3159 - val_accuracy: 0.4653\n",
      "Epoch 20/20\n",
      "11/11 [==============================] - 14s 1s/step - loss: 1.2483 - accuracy: 0.4925 - val_loss: 1.3151 - val_accuracy: 0.4653\n",
      "CPU times: user 7min 8s, sys: 23.7 s, total: 7min 32s\n",
      "Wall time: 5min 23s\n"
     ]
    }
   ],
   "source": [
    "%%time\n",
    "history = gru_model.fit(X_train, np.asarray(Y_train), validation_data=(X_val, np.asarray(Y_val)), batch_size = batch_size, epochs = epochs)"
   ]
  },
  {
   "cell_type": "code",
   "execution_count": 40,
   "id": "1f800d30",
   "metadata": {},
   "outputs": [
    {
     "data": {
      "image/png": "[encoded data removed]",
      "text/plain": [
       "<Figure size 1500x700 with 1 Axes>"
      ]
     },
     "metadata": {},
     "output_type": "display_data"
    }
   ],
   "source": [
    "#plot accuracy\n",
    "plot_accuracy(history,epochs)"
   ]
  },
  {
   "cell_type": "code",
   "execution_count": 41,
   "id": "798392d3",
   "metadata": {},
   "outputs": [
    {
     "name": "stdout",
     "output_type": "stream",
     "text": [
      "Train accuracy: 50.64\n",
      "Test accuracy: 40.18\n"
     ]
    }
   ],
   "source": [
    "# Accuracy\n",
    "train_test_accuracy(gru_model,X_train,Y_train,X_test,Y_test)"
   ]
  },
  {
   "cell_type": "code",
   "execution_count": 42,
   "id": "3346397e",
   "metadata": {},
   "outputs": [
    {
     "name": "stdout",
     "output_type": "stream",
     "text": [
      " 1/11 [=>............................] - ETA: 3s"
     ]
    },
    {
     "name": "stderr",
     "output_type": "stream",
     "text": [
      "2023-08-06 18:38:56.156892: I tensorflow/core/common_runtime/executor.cc:1197] [/device:CPU:0] (DEBUG INFO) Executor start aborting (this does not indicate an error and you can ignore this message): INVALID_ARGUMENT: You must feed a value for placeholder tensor 'gradients/split_2_grad/concat/split_2/split_dim' with dtype int32\n",
      "\t [[{{node gradients/split_2_grad/concat/split_2/split_dim}}]]\n",
      "2023-08-06 18:38:56.158659: I tensorflow/core/common_runtime/executor.cc:1197] [/device:CPU:0] (DEBUG INFO) Executor start aborting (this does not indicate an error and you can ignore this message): INVALID_ARGUMENT: You must feed a value for placeholder tensor 'gradients/split_grad/concat/split/split_dim' with dtype int32\n",
      "\t [[{{node gradients/split_grad/concat/split/split_dim}}]]\n",
      "2023-08-06 18:38:56.159949: I tensorflow/core/common_runtime/executor.cc:1197] [/device:CPU:0] (DEBUG INFO) Executor start aborting (this does not indicate an error and you can ignore this message): INVALID_ARGUMENT: You must feed a value for placeholder tensor 'gradients/split_1_grad/concat/split_1/split_dim' with dtype int32\n",
      "\t [[{{node gradients/split_1_grad/concat/split_1/split_dim}}]]\n"
     ]
    },
    {
     "name": "stdout",
     "output_type": "stream",
     "text": [
      "11/11 [==============================] - 1s 71ms/step\n",
      "              precision    recall  f1-score   support\n",
      "\n",
      "           0       0.00      0.00      0.00        32\n",
      "           1       0.00      0.00      0.00        35\n",
      "           2       0.50      0.25      0.33        48\n",
      "           3       0.60      0.14      0.23        43\n",
      "           4       0.46      0.49      0.48        91\n",
      "           5       0.35      0.80      0.49        92\n",
      "\n",
      "    accuracy                           0.40       341\n",
      "   macro avg       0.32      0.28      0.25       341\n",
      "weighted avg       0.36      0.40      0.34       341\n",
      "\n",
      "accuracy: 0.402\n"
     ]
    },
    {
     "name": "stderr",
     "output_type": "stream",
     "text": [
      "/usr/local/python/3.8.17/lib/python3.8/site-packages/sklearn/metrics/_classification.py:1469: UndefinedMetricWarning: Precision and F-score are ill-defined and being set to 0.0 in labels with no predicted samples. Use `zero_division` parameter to control this behavior.\n",
      "  _warn_prf(average, modifier, msg_start, len(result))\n",
      "/usr/local/python/3.8.17/lib/python3.8/site-packages/sklearn/metrics/_classification.py:1469: UndefinedMetricWarning: Precision and F-score are ill-defined and being set to 0.0 in labels with no predicted samples. Use `zero_division` parameter to control this behavior.\n",
      "  _warn_prf(average, modifier, msg_start, len(result))\n",
      "/usr/local/python/3.8.17/lib/python3.8/site-packages/sklearn/metrics/_classification.py:1469: UndefinedMetricWarning: Precision and F-score are ill-defined and being set to 0.0 in labels with no predicted samples. Use `zero_division` parameter to control this behavior.\n",
      "  _warn_prf(average, modifier, msg_start, len(result))\n"
     ]
    }
   ],
   "source": [
    "#Classification report\n",
    "report_nn(gru_model,X_test,Y_test)\n"
   ]
  },
  {
   "cell_type": "markdown",
   "id": "2bf3e6f3",
   "metadata": {},
   "source": [
    "#### e) CNN+GRU"
   ]
  },
  {
   "cell_type": "code",
   "execution_count": 43,
   "id": "31cc6538",
   "metadata": {},
   "outputs": [
    {
     "name": "stderr",
     "output_type": "stream",
     "text": [
      "2023-08-06 18:39:07.262037: I tensorflow/core/common_runtime/executor.cc:1197] [/device:CPU:0] (DEBUG INFO) Executor start aborting (this does not indicate an error and you can ignore this message): INVALID_ARGUMENT: You must feed a value for placeholder tensor 'gradients/split_2_grad/concat/split_2/split_dim' with dtype int32\n",
      "\t [[{{node gradients/split_2_grad/concat/split_2/split_dim}}]]\n",
      "2023-08-06 18:39:07.263673: I tensorflow/core/common_runtime/executor.cc:1197] [/device:CPU:0] (DEBUG INFO) Executor start aborting (this does not indicate an error and you can ignore this message): INVALID_ARGUMENT: You must feed a value for placeholder tensor 'gradients/split_grad/concat/split/split_dim' with dtype int32\n",
      "\t [[{{node gradients/split_grad/concat/split/split_dim}}]]\n",
      "2023-08-06 18:39:07.265581: I tensorflow/core/common_runtime/executor.cc:1197] [/device:CPU:0] (DEBUG INFO) Executor start aborting (this does not indicate an error and you can ignore this message): INVALID_ARGUMENT: You must feed a value for placeholder tensor 'gradients/split_1_grad/concat/split_1/split_dim' with dtype int32\n",
      "\t [[{{node gradients/split_1_grad/concat/split_1/split_dim}}]]\n",
      "2023-08-06 18:39:07.454948: I tensorflow/core/common_runtime/executor.cc:1197] [/device:CPU:0] (DEBUG INFO) Executor start aborting (this does not indicate an error and you can ignore this message): INVALID_ARGUMENT: You must feed a value for placeholder tensor 'gradients/split_2_grad/concat/split_2/split_dim' with dtype int32\n",
      "\t [[{{node gradients/split_2_grad/concat/split_2/split_dim}}]]\n",
      "2023-08-06 18:39:07.456307: I tensorflow/core/common_runtime/executor.cc:1197] [/device:CPU:0] (DEBUG INFO) Executor start aborting (this does not indicate an error and you can ignore this message): INVALID_ARGUMENT: You must feed a value for placeholder tensor 'gradients/split_grad/concat/split/split_dim' with dtype int32\n",
      "\t [[{{node gradients/split_grad/concat/split/split_dim}}]]\n",
      "2023-08-06 18:39:07.457646: I tensorflow/core/common_runtime/executor.cc:1197] [/device:CPU:0] (DEBUG INFO) Executor start aborting (this does not indicate an error and you can ignore this message): INVALID_ARGUMENT: You must feed a value for placeholder tensor 'gradients/split_1_grad/concat/split_1/split_dim' with dtype int32\n",
      "\t [[{{node gradients/split_1_grad/concat/split_1/split_dim}}]]\n"
     ]
    },
    {
     "name": "stdout",
     "output_type": "stream",
     "text": [
      "Model: \"sequential_3\"\n",
      "_________________________________________________________________\n",
      " Layer (type)                Output Shape              Param #   \n",
      "=================================================================\n",
      " embedding_3 (Embedding)     (None, None, 50)          3000000   \n",
      "                                                                 \n",
      " conv1d_2 (Conv1D)           (None, None, 64)          9664      \n",
      "                                                                 \n",
      " max_pooling1d_1 (MaxPooling  (None, None, 64)         0         \n",
      " 1D)                                                             \n",
      "                                                                 \n",
      " gru_1 (GRU)                 (None, None, 128)         74496     \n",
      "                                                                 \n",
      " gru_2 (GRU)                 (None, 128)               99072     \n",
      "                                                                 \n",
      " dense_3 (Dense)             (None, 6)                 774       \n",
      "                                                                 \n",
      "=================================================================\n",
      "Total params: 3,184,006\n",
      "Trainable params: 184,006\n",
      "Non-trainable params: 3,000,000\n",
      "_________________________________________________________________\n"
     ]
    },
    {
     "name": "stderr",
     "output_type": "stream",
     "text": [
      "/usr/local/python/3.8.17/lib/python3.8/site-packages/keras/optimizers/legacy/adam.py:117: UserWarning: The `lr` argument is deprecated, use `learning_rate` instead.\n",
      "  super().__init__(name, **kwargs)\n"
     ]
    },
    {
     "ename": "",
     "evalue": "",
     "output_type": "error",
     "traceback": [
      "\u001b[1;31mThe Kernel crashed while executing code in the the current cell or a previous cell. Please review the code in the cell(s) to identify a possible cause of the failure. Click <a href='https://aka.ms/vscodeJupyterKernelCrash'>here</a> for more info. View Jupyter <a href='command:jupyter.viewOutput'>log</a> for further details."
     ]
    }
   ],
   "source": [
    "cnn_gru_model =CNN_GRU_model(embedding_matrix,vocab_len)"
   ]
  },
  {
   "cell_type": "code",
   "execution_count": null,
   "id": "4217fb1d",
   "metadata": {},
   "outputs": [],
   "source": [
    "%%time\n",
    "history=cnn_gru_model.fit(X_train, np.asarray(Y_train), validation_data=(X_val, np.asarray(Y_val)),epochs=epochs, batch_size=batch_size)"
   ]
  },
  {
   "cell_type": "code",
   "execution_count": null,
   "id": "b447a9ab",
   "metadata": {},
   "outputs": [],
   "source": [
    "#plot accuracy\n",
    "plot_accuracy(history,epochs)"
   ]
  },
  {
   "cell_type": "code",
   "execution_count": null,
   "id": "3917939f",
   "metadata": {},
   "outputs": [],
   "source": [
    "# Accuracy\n",
    "train_test_accuracy(cnn_gru_model,X_train,Y_train,X_test,Y_test)"
   ]
  },
  {
   "cell_type": "code",
   "execution_count": null,
   "id": "e65751a8",
   "metadata": {},
   "outputs": [],
   "source": [
    "#Classification report\n",
    "report_nn(cnn_gru_model,X_test,Y_test)"
   ]
  },
  {
   "cell_type": "markdown",
   "id": "eca4da46",
   "metadata": {},
   "source": [
    "#### f) CNN+LSTM"
   ]
  },
  {
   "cell_type": "code",
   "execution_count": null,
   "id": "3124034e",
   "metadata": {},
   "outputs": [],
   "source": [
    "cnn_lstm_model = CNN_LSTM_model(embedding_matrix,vocab_len)"
   ]
  },
  {
   "cell_type": "code",
   "execution_count": null,
   "id": "a71d3b12",
   "metadata": {},
   "outputs": [],
   "source": [
    "%%time\n",
    "history=cnn_lstm_model.fit(X_train, np.asarray(Y_train), validation_data=(X_val, np.asarray(Y_val)),epochs=epochs, batch_size=batch_size)"
   ]
  },
  {
   "cell_type": "code",
   "execution_count": null,
   "id": "998f7586",
   "metadata": {},
   "outputs": [],
   "source": [
    "#plot accuracy\n",
    "plot_accuracy(history, epochs)"
   ]
  },
  {
   "cell_type": "code",
   "execution_count": null,
   "id": "0a0697dc",
   "metadata": {},
   "outputs": [],
   "source": [
    "# Accuracy\n",
    "train_test_accuracy(cnn_lstm_model,X_train,Y_train,X_test,Y_test)"
   ]
  },
  {
   "cell_type": "code",
   "execution_count": null,
   "id": "3cc249b2",
   "metadata": {},
   "outputs": [],
   "source": [
    "#Classification report\n",
    "report_nn(cnn_lstm_model,X_test,Y_test)"
   ]
  },
  {
   "cell_type": "markdown",
   "id": "8b9d2838",
   "metadata": {},
   "source": [
    "##### Confusion Matrix"
   ]
  },
  {
   "cell_type": "code",
   "execution_count": null,
   "id": "74ced08b",
   "metadata": {},
   "outputs": [],
   "source": [
    "#cnn_lstm_model0=cnn_lstm_model\n",
    "print('--Confusion Matrix for CNN+LSTM--')\n",
    "print_confusion(cnn_lstm_model,X_test,Y_test)"
   ]
  },
  {
   "cell_type": "markdown",
   "id": "32e1d892",
   "metadata": {},
   "source": [
    "## Bidirectional LSTM models"
   ]
  },
  {
   "cell_type": "code",
   "execution_count": null,
   "id": "29038356",
   "metadata": {},
   "outputs": [],
   "source": [
    "lstmbd_model = BID_LSTM_model(embedding_matrix,vocab_len,emb_dim)"
   ]
  },
  {
   "cell_type": "code",
   "execution_count": null,
   "id": "a21856f2",
   "metadata": {},
   "outputs": [],
   "source": [
    "%%time\n",
    "history=lstmbd_model.fit(X_train, np.asarray(Y_train), validation_data=(X_val, np.asarray(Y_val)),epochs=epochs, batch_size=batch_size)"
   ]
  },
  {
   "cell_type": "code",
   "execution_count": null,
   "id": "e76ab166",
   "metadata": {},
   "outputs": [],
   "source": [
    "#plot accuracy\n",
    "plot_accuracy(history,epochs)"
   ]
  },
  {
   "cell_type": "code",
   "execution_count": null,
   "id": "8247af34",
   "metadata": {},
   "outputs": [],
   "source": [
    "# Accuracy\n",
    "train_test_accuracy(cnn_lstm_model,X_train,Y_train,X_test,Y_test)"
   ]
  },
  {
   "cell_type": "code",
   "execution_count": null,
   "id": "926f9f00",
   "metadata": {},
   "outputs": [],
   "source": [
    "#Classification report\n",
    "report_nn(cnn_lstm_model,X_test,Y_test)"
   ]
  },
  {
   "cell_type": "markdown",
   "id": "da6ddb5e",
   "metadata": {},
   "source": [
    "## Bidirectional GRU"
   ]
  },
  {
   "cell_type": "code",
   "execution_count": null,
   "id": "b04a1db7",
   "metadata": {},
   "outputs": [],
   "source": [
    "grubd_model = BID_GRU_model(embedding_matrix,vocab_len,emb_dim)"
   ]
  },
  {
   "cell_type": "code",
   "execution_count": null,
   "id": "72ce52a6",
   "metadata": {},
   "outputs": [],
   "source": [
    "%%time\n",
    "history=grubd_model.fit(X_train, np.asarray(Y_train), validation_data=(X_val, np.asarray(Y_val)),epochs=epochs, batch_size=batch_size)"
   ]
  },
  {
   "cell_type": "code",
   "execution_count": null,
   "id": "ef7f10aa",
   "metadata": {},
   "outputs": [],
   "source": [
    "#plot accuracy\n",
    "plot_accuracy(history,epochs)"
   ]
  },
  {
   "cell_type": "code",
   "execution_count": null,
   "id": "df09b1f9",
   "metadata": {},
   "outputs": [],
   "source": [
    "# Accuracy\n",
    "train_test_accuracy(grubd_model,X_train,Y_train,X_test,Y_test)"
   ]
  },
  {
   "cell_type": "code",
   "execution_count": null,
   "id": "fe095440",
   "metadata": {
    "scrolled": true
   },
   "outputs": [],
   "source": [
    "#Classification report\n",
    "report_nn(grubd_model,X_test,Y_test)"
   ]
  }
 ],
 "metadata": {
  "kernelspec": {
   "display_name": "Python 3 (ipykernel)",
   "language": "python",
   "name": "python3"
  },
  "language_info": {
   "codemirror_mode": {
    "name": "ipython",
    "version": 3
   },
   "file_extension": ".py",
   "mimetype": "text/x-python",
   "name": "python",
   "nbconvert_exporter": "python",
   "pygments_lexer": "ipython3",
   "version": "3.8.17"
  }
 },
 "nbformat": 4,
 "nbformat_minor": 5
}

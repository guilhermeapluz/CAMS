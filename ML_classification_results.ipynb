{
 "cells": [
  {
   "cell_type": "code",
   "execution_count": 2,
   "metadata": {},
   "outputs": [],
   "source": [
    "import pandas as pd\n",
    "import numpy as np\n",
    "import matplotlib.pyplot as plt"
   ]
  },
  {
   "cell_type": "code",
   "execution_count": 159,
   "metadata": {},
   "outputs": [],
   "source": [
    "read_file = pd.read_csv('./data/tweets_lstm_predicted.csv')\n",
    "df_result = pd.DataFrame(read_file,columns= ['text','cause_id', 'cause_desc'])\n",
    "total_rows = len(df_result)"
   ]
  },
  {
   "cell_type": "code",
   "execution_count": 215,
   "metadata": {},
   "outputs": [],
   "source": [
    "labels = [ax for ax in df_result['cause_desc'].value_counts().axes[0]]\n",
    "values = [ax for ax in df_result['cause_desc'].value_counts()]\n",
    "legend = [f\"{labels[idx]} - {(values[idx]/total_rows):.2%}\" for idx in range(len(labels)) ]\n",
    "axis = pd.DataFrame({'labels':labels,'values':values})\n"
   ]
  },
  {
   "cell_type": "code",
   "execution_count": null,
   "metadata": {},
   "outputs": [],
   "source": [
    "fig, ax = plt.subplots(1,1)\n",
    "patches, texts, pcts = ax.pie(values, labels=legend,  autopct='%1.1f%%',startangle=90)\n",
    "ax.legend(title='Causes',fontsize=9, bbox_to_anchor=(0.75, 0))\n",
    "plt.title('Class distribution of twitter posts')\n",
    "plt.setp(texts, color='white',fontsize=0)\n",
    "plt.setp(pcts, fontsize=0)"
   ]
  },
  {
   "cell_type": "code",
   "execution_count": null,
   "metadata": {},
   "outputs": [],
   "source": [
    "axis = axis.sort_values('values')\n",
    "fig, ax = plt.subplots(1,1)\n",
    "ax.barh(axis['labels'],axis['values'],align ='center',left=-1)\n",
    "plt.title('Class distribution of twitter posts')"
   ]
  },
  {
   "cell_type": "code",
   "execution_count": 224,
   "metadata": {},
   "outputs": [],
   "source": [
    "import datetime\n",
    "\n",
    "a = datetime.datetime.now() #.strftime(\"%Y\")"
   ]
  },
  {
   "cell_type": "code",
   "execution_count": 252,
   "metadata": {},
   "outputs": [],
   "source": [
    "b = datetime.datetime.now() #.strftime(\"%Y\")"
   ]
  },
  {
   "cell_type": "code",
   "execution_count": 253,
   "metadata": {},
   "outputs": [
    {
     "data": {
      "text/plain": [
       "'0:12:50'"
      ]
     },
     "execution_count": 253,
     "metadata": {},
     "output_type": "execute_result"
    }
   ],
   "source": [
    "def time_to_run(start, end):\n",
    "    times = end - start\n",
    "    seconds = times.seconds\n",
    "    seconds = seconds % (24 * 3600)\n",
    "    hour = seconds // 3600\n",
    "    seconds %= 3600\n",
    "    minutes = seconds // 60\n",
    "    seconds %= 60\n",
    "     \n",
    "    return \"%d:%02d:%02d\" % (hour, minutes, seconds)"
   ]
  }
 ],
 "metadata": {
  "kernelspec": {
   "display_name": "Python 3 (ipykernel)",
   "language": "python",
   "name": "python3"
  },
  "orig_nbformat": 4
 },
 "nbformat": 4,
 "nbformat_minor": 2
}
